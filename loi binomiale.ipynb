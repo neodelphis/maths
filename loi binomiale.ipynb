{
 "cells": [
  {
   "cell_type": "markdown",
   "id": "9775ce0f-6457-45b1-b0ed-adefd38f9d80",
   "metadata": {},
   "source": [
    "# Loi binomiale"
   ]
  },
  {
   "cell_type": "markdown",
   "id": "92aa667a-1159-489b-917b-3fc94e6ce87e",
   "metadata": {},
   "source": [
    "## Expérience pour faire émerger la loi binomiale"
   ]
  },
  {
   "cell_type": "markdown",
   "id": "37519069-ce1f-4731-aff9-7b7488e698fa",
   "metadata": {},
   "source": [
    "&#x25CB; &#x25CB; &#x25CB;  \n",
    "&#x25CF; &#x25CF; &#x25CF;  \n",
    "&#x25CF; &#x25CF; &#x25CF;  "
   ]
  },
  {
   "cell_type": "markdown",
   "id": "58ef78e5-a089-463d-bf49-4fa908e2a556",
   "metadata": {},
   "source": [
    "Dans une urne on place:\n",
    "- 3 boules blanches (`1`)\n",
    "- 6 boules noires (`0`)\n",
    "\n",
    "Ici la proportion de boules blanches `p=1/3`.\n",
    "\n",
    "On effectue `n` tirages avec remise.\n",
    "\n",
    "Quelle est la probabilité d'avoir tiré `k` fois une boule blanche?"
   ]
  },
  {
   "cell_type": "markdown",
   "id": "16e15b44-127b-4230-8d4d-afacab968943",
   "metadata": {},
   "source": [
    "&#x25CF; &#x25CF;  \n",
    "&#x25CF; &#x25CB; &#x25CB;  \n",
    "&#x25CB; &#x25CF; &#x25CF; &nbsp; &nbsp; &nbsp; &nbsp; &nbsp; &nbsp; &nbsp; &#x25CF;  \n",
    "\n",
    "&#x25CF; &#x25CB; &#x25CB;  \n",
    "&#x25CF; &#x25CF;  \n",
    "&#x25CF; &#x25CF; &#x25CF; &nbsp; &nbsp; &nbsp; &nbsp; &nbsp; &nbsp; &nbsp; &#x25CB;  \n",
    "\n",
    "\n",
    "&#x25CB; &#x25CB;  \n",
    "&#x25CF; &#x25CF; &#x25CF;  \n",
    "&#x25CB; &#x25CF; &#x25CF; &nbsp; &nbsp; &nbsp; &nbsp; &nbsp; &nbsp; &nbsp; &#x25CF;\n",
    "\n"
   ]
  },
  {
   "cell_type": "markdown",
   "id": "9ffd5cb6-8ac3-4943-bc7a-3456fcb9bf41",
   "metadata": {},
   "source": [
    "$$\\mathcal{B}(n,p)$$\n",
    "$$P(X=k)= {n\\choose k}p^k(1-p)^{n-k}$$"
   ]
  },
  {
   "cell_type": "markdown",
   "id": "6d8145b9-644b-410c-995a-9ab88a568314",
   "metadata": {},
   "source": [
    "## Approximation de B(10, 1/3)"
   ]
  },
  {
   "cell_type": "code",
   "execution_count": 1,
   "id": "5cebcc36-05ae-4193-80c5-9952c9f46c1e",
   "metadata": {},
   "outputs": [],
   "source": [
    "import random"
   ]
  },
  {
   "cell_type": "code",
   "execution_count": 2,
   "id": "e7aff932-0280-492d-a7ef-3f8a2c84bb60",
   "metadata": {},
   "outputs": [
    {
     "data": {
      "text/plain": [
       "[1, 1, 1, 0, 0, 0, 0, 0, 0]"
      ]
     },
     "execution_count": 2,
     "metadata": {},
     "output_type": "execute_result"
    }
   ],
   "source": [
    "urne = [1]*3 + [0]*6\n",
    "urne"
   ]
  },
  {
   "cell_type": "code",
   "execution_count": 3,
   "id": "b1b0fda8-4840-4a09-b7bf-025b2dd9346c",
   "metadata": {},
   "outputs": [
    {
     "data": {
      "text/plain": [
       "1"
      ]
     },
     "execution_count": 3,
     "metadata": {},
     "output_type": "execute_result"
    }
   ],
   "source": [
    "random.choice(urne)"
   ]
  },
  {
   "cell_type": "markdown",
   "id": "69f87776-7028-48e8-8f20-19a196683b14",
   "metadata": {},
   "source": [
    "Faisons `s` fois dix tirages.\n",
    "\n",
    "Voyons combien de boules blanches on tire sur chacune de ces séries de `n = 10` tirages.\n",
    "\n",
    "Ca va nous permettre d'approximer la propabilité de l'évévement: \"je tire k boules blanches sur n tirages avec remise\".\n",
    "\n",
    "$$\\mathcal{B}(n=10,p=\\frac{1}{3})$$\n"
   ]
  },
  {
   "cell_type": "code",
   "execution_count": 4,
   "id": "cf2e8911-ce39-49cd-b5f5-98c1ec6e6d70",
   "metadata": {},
   "outputs": [
    {
     "data": {
      "text/plain": [
       "Counter({3: 260045,\n",
       "         4: 228349,\n",
       "         2: 194523,\n",
       "         5: 136949,\n",
       "         1: 86719,\n",
       "         6: 56718,\n",
       "         0: 17214,\n",
       "         7: 16162,\n",
       "         8: 2979,\n",
       "         9: 329,\n",
       "         10: 13})"
      ]
     },
     "execution_count": 4,
     "metadata": {},
     "output_type": "execute_result"
    }
   ],
   "source": [
    "from collections import Counter\n",
    "random.seed(42)\n",
    "blanches = []\n",
    "n=10  # nombre de tirages\n",
    "s = 1000000 # nombre de séries de n tirages\n",
    "for _ in range(s):\n",
    "    série_de_n_tirages = [random.choice(urne) for tirage in range(n)]\n",
    "    blanches.append(sum(série_de_n_tirages))\n",
    "c = Counter(blanches)\n",
    "c"
   ]
  },
  {
   "cell_type": "code",
   "execution_count": 5,
   "id": "a0a64936-2c42-483a-9827-3cf92e43ffc0",
   "metadata": {},
   "outputs": [],
   "source": [
    "# nombre de fois où l'on tire une boule blanche\n",
    "# liste 0 à 10 inclus\n",
    "\n",
    "# probabilité estimée par comptage du nombre de fois où l'on a tiré k boules blanches\n",
    "p = [c[k]/s*100 for k in list(range(11))]"
   ]
  },
  {
   "cell_type": "code",
   "execution_count": 6,
   "id": "699d6aad-883a-4b60-81ae-b9a7151cb80d",
   "metadata": {
    "jupyter": {
     "source_hidden": true
    }
   },
   "outputs": [
    {
     "data": {
      "image/png": "[encoded data removed]",
      "text/plain": [
       "<Figure size 640x480 with 1 Axes>"
      ]
     },
     "metadata": {},
     "output_type": "display_data"
    }
   ],
   "source": [
    "import matplotlib.pyplot as plt\n",
    "fig, ax = plt.subplots()\n",
    "plt.bar(list(range(11)), p)\n",
    "ax.set_xlabel('k tirages de boules blanches')\n",
    "ax.set_ylabel('occurence')\n",
    "ax.set_title('Approximation de B(10, 1/3)')\n",
    "plt.show()"
   ]
  },
  {
   "cell_type": "code",
   "execution_count": 7,
   "id": "97ba0b93-1215-4583-9b77-e29c8b9a3940",
   "metadata": {},
   "outputs": [
    {
     "data": {
      "text/plain": [
       "1.7214"
      ]
     },
     "execution_count": 7,
     "metadata": {},
     "output_type": "execute_result"
    }
   ],
   "source": [
    "c[0]/s*100"
   ]
  },
  {
   "cell_type": "code",
   "execution_count": 8,
   "id": "4e910fd1-b0b9-4238-9547-17ccd08e270a",
   "metadata": {},
   "outputs": [
    {
     "data": {
      "text/plain": [
       "0.0013"
      ]
     },
     "execution_count": 8,
     "metadata": {},
     "output_type": "execute_result"
    }
   ],
   "source": [
    "c[10]/s*100"
   ]
  },
  {
   "cell_type": "code",
   "execution_count": 9,
   "id": "34439174-c4be-4110-a7c4-e72a3ab37dcb",
   "metadata": {},
   "outputs": [
    {
     "data": {
      "text/plain": [
       "26.004500000000004"
      ]
     },
     "execution_count": 9,
     "metadata": {},
     "output_type": "execute_result"
    }
   ],
   "source": [
    "c[3]/s*100"
   ]
  },
  {
   "cell_type": "markdown",
   "id": "0541db4a-18d9-4db8-b9d8-f83e718f19c0",
   "metadata": {},
   "source": [
    "## Approximation de B(50, 1/3)\n",
    "\n",
    "Maintenant on fait 50 tirages:"
   ]
  },
  {
   "cell_type": "code",
   "execution_count": 14,
   "id": "3fb8e0d8-a81b-4e7b-8bfa-4ff29ab1618b",
   "metadata": {
    "jupyter": {
     "source_hidden": true
    }
   },
   "outputs": [
    {
     "data": {
      "image/png": "[encoded data removed]",
      "text/plain": [
       "<Figure size 640x480 with 1 Axes>"
      ]
     },
     "metadata": {},
     "output_type": "display_data"
    }
   ],
   "source": [
    "blanches = []\n",
    "n=50  # nombre de tirages\n",
    "s = 1000000 # nombre de séries de n tirages\n",
    "for _ in range(s):\n",
    "    série_de_n_tirages = [random.choice(urne) for tirage in range(n)]\n",
    "    blanches.append(sum(série_de_n_tirages))\n",
    "c = Counter(blanches)\n",
    "p = [c[k]/s*100 for k in list(range(n+1))]\n",
    "\n",
    "fig, ax = plt.subplots()\n",
    "plt.bar(list(range(n+1)), p)\n",
    "ax.set_xlabel('k tirages de boules blanches')\n",
    "ax.set_ylabel('occurence')\n",
    "ax.set_title('Approximation de B(50, 1/3)')\n",
    "plt.show()"
   ]
  },
  {
   "cell_type": "code",
   "execution_count": 11,
   "id": "fc8daad4-99e2-433b-9339-6fd7d07b2f44",
   "metadata": {},
   "outputs": [
    {
     "data": {
      "text/plain": [
       "[(16, 118159)]"
      ]
     },
     "execution_count": 11,
     "metadata": {},
     "output_type": "execute_result"
    }
   ],
   "source": [
    "c.most_common(1)"
   ]
  },
  {
   "cell_type": "markdown",
   "id": "cf11f83e-53ae-47dc-b872-3ba010b47c5c",
   "metadata": {},
   "source": [
    "## Loi binomiale théorique"
   ]
  },
  {
   "cell_type": "markdown",
   "id": "62138be0-bf86-4bd0-9746-0ccf241058da",
   "metadata": {},
   "source": [
    "Tracé des probabilités théoriques données par la formule de la loi binomiale: $\\mathcal{B}(n=50,p=\\frac{1}{3})$\n",
    "\n",
    "$$P(X=k)= {n\\choose k}p^k(1-p)^{n-k}$$"
   ]
  },
  {
   "cell_type": "code",
   "execution_count": 12,
   "id": "3f46e4a9-e8ee-4dc6-ad3d-649145be2e0e",
   "metadata": {},
   "outputs": [],
   "source": [
    "# math.comb(n, k)\n",
    "import math\n",
    "\n",
    "def loi_binomiale(k, n=2, p=0.5):\n",
    "    return math.comb(n, k) * p**k * (1-p)**(n-k)"
   ]
  },
  {
   "cell_type": "code",
   "execution_count": 13,
   "id": "c479c954-c4e8-46cd-983f-0cc901ac17f7",
   "metadata": {
    "jupyter": {
     "source_hidden": true
    }
   },
   "outputs": [
    {
     "data": {
      "image/png": "[encoded data removed]",
      "text/plain": [
       "<Figure size 640x480 with 1 Axes>"
      ]
     },
     "metadata": {},
     "output_type": "display_data"
    }
   ],
   "source": [
    "# Distribution théorique\n",
    "n=50  # nombre de tirages\n",
    "p=1/3\n",
    "p = [loi_binomiale(k, n, p) for k in list(range(n+1))]\n",
    "\n",
    "fig, ax = plt.subplots()\n",
    "plt.bar(list(range(n+1)), p)\n",
    "ax.set_xlabel('k tirages de boules blanches')\n",
    "ax.set_ylabel('probabilité P(X=k)')\n",
    "ax.set_title('Distribution théorique B(50, 1/3)')\n",
    "plt.show()"
   ]
  },
  {
   "cell_type": "code",
   "execution_count": null,
   "id": "61c43a1e-6b2b-4a6a-801c-872c42a7eebe",
   "metadata": {},
   "outputs": [],
   "source": []
  }
 ],
 "metadata": {
  "kernelspec": {
   "display_name": "ml",
   "language": "python",
   "name": "ml"
  },
  "language_info": {
   "codemirror_mode": {
    "name": "ipython",
    "version": 3
   },
   "file_extension": ".py",
   "mimetype": "text/x-python",
   "name": "python",
   "nbconvert_exporter": "python",
   "pygments_lexer": "ipython3",
   "version": "3.11.8"
  }
 },
 "nbformat": 4,
 "nbformat_minor": 5
}
