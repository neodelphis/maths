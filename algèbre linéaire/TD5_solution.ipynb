{
 "cells": [
  {
   "cell_type": "markdown",
   "id": "4d504e78-e1af-407a-943b-57395663c847",
   "metadata": {},
   "source": [
    "# TD5 Multiplication, Inverse\n",
    "\n",
    "- Multiplication matricielle\n",
    "- Inverse d'une matrice, Elimination de Gauss-Jordan\n",
    "\n",
    "On note $\\mathcal M_{n,p}(\\mathbb K)$ l'ensemble des matrices à $n$ lignes et $p$ colonnes à coefficients dans $\\mathbb K$"
   ]
  },
  {
   "cell_type": "markdown",
   "id": "dbf95422-9f23-4ce4-968f-a0b864dbaa10",
   "metadata": {},
   "source": [
    "## Exercice 1\n",
    "\n",
    "A l'aide la multiplications à gauche par des matrices d'élimination et de de permutation, tansformez la matrice suivante en matrice triangulaire supérieure.\n",
    "\n",
    "$$\n",
    "\\begin{bmatrix}\n",
    "1 & 2 & 3 \\\\\n",
    "1 & 1 & 2 \\\\\n",
    "1 & 0 & 4 \\\\\n",
    "\\end{bmatrix}\n",
    "$$\n",
    "\n",
    "La matrice est elle inversible? (ou question équivalente, peut on trouver un unique x, solution de l'équation $Ax=b$ pour $b \\neq 0$)"
   ]
  },
  {
   "cell_type": "code",
   "execution_count": 7,
   "id": "670a236d-0048-4110-965d-57088310503d",
   "metadata": {},
   "outputs": [
    {
     "data": {
      "text/plain": [
       "[1 2 3]\n",
       "[1 1 2]\n",
       "[1 0 4]"
      ]
     },
     "execution_count": 7,
     "metadata": {},
     "output_type": "execute_result"
    }
   ],
   "source": [
    "A = matrix([[1, 2, 3],\n",
    "            [1, 1, 2],\n",
    "            [1, 0, 4]])\n",
    "A"
   ]
  },
  {
   "cell_type": "code",
   "execution_count": 8,
   "id": "ab772e0d-3f92-4add-b483-d8220309339d",
   "metadata": {},
   "outputs": [
    {
     "data": {
      "text/plain": [
       "[ 1  0  0]\n",
       "[-1  1  0]\n",
       "[ 0  0  1]"
      ]
     },
     "execution_count": 8,
     "metadata": {},
     "output_type": "execute_result"
    }
   ],
   "source": [
    "E21 = matrix([[1, 0, 0],\n",
    "              [-1, 1, 0],\n",
    "              [0, 0, 1]])\n",
    "E21"
   ]
  },
  {
   "cell_type": "code",
   "execution_count": 9,
   "id": "8826dfbc-49db-46ae-a145-f4718f77a31a",
   "metadata": {},
   "outputs": [
    {
     "data": {
      "text/plain": [
       "[ 1  2  3]\n",
       "[ 0 -1 -1]\n",
       "[ 1  0  4]"
      ]
     },
     "execution_count": 9,
     "metadata": {},
     "output_type": "execute_result"
    }
   ],
   "source": [
    "E21 * A"
   ]
  },
  {
   "cell_type": "code",
   "execution_count": 10,
   "id": "1d5aa42a-709f-43cb-bf86-201eb26224a2",
   "metadata": {},
   "outputs": [
    {
     "data": {
      "text/plain": [
       "[ 1  0  0]\n",
       "[ 0  1  0]\n",
       "[-1  0  1]"
      ]
     },
     "execution_count": 10,
     "metadata": {},
     "output_type": "execute_result"
    }
   ],
   "source": [
    "E31 = matrix([[1, 0, 0],\n",
    "              [0, 1, 0],\n",
    "              [-1, 0, 1]])\n",
    "E31"
   ]
  },
  {
   "cell_type": "code",
   "execution_count": 11,
   "id": "84413641-89a1-4a39-ae6a-8a2cadd4822d",
   "metadata": {},
   "outputs": [
    {
     "data": {
      "text/plain": [
       "[ 1  2  3]\n",
       "[ 0 -1 -1]\n",
       "[ 0 -2  1]"
      ]
     },
     "execution_count": 11,
     "metadata": {},
     "output_type": "execute_result"
    }
   ],
   "source": [
    "E31 * E21 * A"
   ]
  },
  {
   "cell_type": "code",
   "execution_count": 12,
   "id": "4c19bf0f-f3c4-4f4b-9be8-a648ffe2eaa7",
   "metadata": {},
   "outputs": [
    {
     "data": {
      "text/plain": [
       "[ 1  0  0]\n",
       "[ 0  1  0]\n",
       "[ 0 -2  1]"
      ]
     },
     "execution_count": 12,
     "metadata": {},
     "output_type": "execute_result"
    }
   ],
   "source": [
    "E32 = matrix([[1, 0, 0],\n",
    "              [0, 1, 0],\n",
    "              [0, -2, 1]])\n",
    "E32"
   ]
  },
  {
   "cell_type": "code",
   "execution_count": 13,
   "id": "77d878f3-266e-4c7e-9503-15cd8bb2db16",
   "metadata": {},
   "outputs": [
    {
     "data": {
      "text/plain": [
       "[ 1  2  3]\n",
       "[ 0 -1 -1]\n",
       "[ 0  0  3]"
      ]
     },
     "execution_count": 13,
     "metadata": {},
     "output_type": "execute_result"
    }
   ],
   "source": [
    "E32 * E31 * E21 * A"
   ]
  },
  {
   "cell_type": "markdown",
   "id": "7f763db6-57b3-41b6-a92a-314f415a8185",
   "metadata": {},
   "source": [
    "La matrice est inversible"
   ]
  },
  {
   "cell_type": "markdown",
   "id": "b1e03426-4a6d-48f1-a70c-0fd17a21ddd2",
   "metadata": {},
   "source": [
    "## Exercice 2\n",
    "\n",
    "A l'aide la multiplications à gauche par des matrices d'élimination et de de permutation, tansformez la matrice suivante en matrice triangulaire supérieure.\n",
    "\n",
    "$$\n",
    "\\begin{bmatrix}\n",
    "1 & 2 & 3 \\\\\n",
    "1 & 1 & 2 \\\\\n",
    "1 & 0 & 1 \\\\\n",
    "\\end{bmatrix}\n",
    "$$\n",
    "\n",
    "La matrice est elle inversible?"
   ]
  },
  {
   "cell_type": "code",
   "execution_count": 59,
   "id": "021ac579-f2a6-4d62-9de4-20266ae090d3",
   "metadata": {},
   "outputs": [
    {
     "data": {
      "text/plain": [
       "[1 2 3]\n",
       "[1 1 2]\n",
       "[1 0 1]"
      ]
     },
     "execution_count": 59,
     "metadata": {},
     "output_type": "execute_result"
    }
   ],
   "source": [
    "A = matrix([[1, 2, 3],\n",
    "            [1, 1, 2],\n",
    "            [1, 0, 1]])\n",
    "A"
   ]
  },
  {
   "cell_type": "code",
   "execution_count": 60,
   "id": "036f34bc-c6a0-49f5-bd08-8f211d18e9a4",
   "metadata": {},
   "outputs": [
    {
     "data": {
      "text/plain": [
       "[ 1  2  3]\n",
       "[ 0 -1 -1]\n",
       "[ 0 -2 -2]"
      ]
     },
     "execution_count": 60,
     "metadata": {},
     "output_type": "execute_result"
    }
   ],
   "source": [
    "E1 = matrix([[1, 0, 0],\n",
    "            [-1, 1, 0],\n",
    "            [-1, 0, 1]])\n",
    "E1 * A"
   ]
  },
  {
   "cell_type": "code",
   "execution_count": 61,
   "id": "17703172-a05a-4580-ba35-ba982164c7cb",
   "metadata": {},
   "outputs": [
    {
     "data": {
      "text/plain": [
       "[ 1  2  3]\n",
       "[ 0 -1 -1]\n",
       "[ 0  0  0]"
      ]
     },
     "execution_count": 61,
     "metadata": {},
     "output_type": "execute_result"
    }
   ],
   "source": [
    "E32 = matrix([[1, 0, 0],\n",
    "            [0, 1, 0],\n",
    "            [0, -2, 1]])\n",
    "E32 * E1 * A"
   ]
  },
  {
   "cell_type": "markdown",
   "id": "3423d013-773d-446d-9e82-9404dfc822d5",
   "metadata": {},
   "source": [
    "La matrice n'est pas inversible"
   ]
  },
  {
   "cell_type": "code",
   "execution_count": 62,
   "id": "1a8ecafe-3abb-423f-abea-995005da9053",
   "metadata": {},
   "outputs": [],
   "source": [
    "b = vector([3, 2, 1])"
   ]
  },
  {
   "cell_type": "code",
   "execution_count": 66,
   "id": "e022377a-af1d-4da9-97a4-3a79c3d1991b",
   "metadata": {},
   "outputs": [
    {
     "data": {
      "text/plain": [
       "(3, 2, 1)"
      ]
     },
     "execution_count": 66,
     "metadata": {},
     "output_type": "execute_result"
    }
   ],
   "source": [
    "x1 = vector([1, 1, 0])\n",
    "A*x1"
   ]
  },
  {
   "cell_type": "code",
   "execution_count": 65,
   "id": "6771f014-fa56-4e2b-bcea-3a0be8b57fd0",
   "metadata": {},
   "outputs": [
    {
     "data": {
      "text/plain": [
       "True"
      ]
     },
     "execution_count": 65,
     "metadata": {},
     "output_type": "execute_result"
    }
   ],
   "source": [
    "A*x1 == b"
   ]
  },
  {
   "cell_type": "code",
   "execution_count": 67,
   "id": "4c5eaf32-0ef3-48fe-ae87-d8b74eb37156",
   "metadata": {},
   "outputs": [
    {
     "data": {
      "text/plain": [
       "True"
      ]
     },
     "execution_count": 67,
     "metadata": {},
     "output_type": "execute_result"
    }
   ],
   "source": [
    "x2 = vector([0, 0, 1])\n",
    "A * x2 == b"
   ]
  },
  {
   "cell_type": "markdown",
   "id": "448dbda9-280a-456c-9197-8b9893ade108",
   "metadata": {},
   "source": [
    "## Exercice 3\n",
    "A l'aide de la méthode d'élimination de Gauss-Jordan, trouvez l'inverse de \n",
    "\n",
    "$$\n",
    "\\begin{bmatrix}\n",
    "1 & 2 & 3 \\\\\n",
    "1 & 1 & 2 \\\\\n",
    "1 & 0 & 4 \\\\\n",
    "\\end{bmatrix}\n",
    "$$"
   ]
  },
  {
   "cell_type": "code",
   "execution_count": 68,
   "id": "f0a5b743-6d03-4cbc-84b0-ddc2328acfe4",
   "metadata": {},
   "outputs": [
    {
     "data": {
      "text/plain": [
       "[1 2 3]\n",
       "[1 1 2]\n",
       "[1 0 4]"
      ]
     },
     "execution_count": 68,
     "metadata": {},
     "output_type": "execute_result"
    }
   ],
   "source": [
    "A = matrix([[1, 2, 3],\n",
    "            [1, 1, 2],\n",
    "            [1, 0, 4]])\n",
    "A"
   ]
  },
  {
   "cell_type": "code",
   "execution_count": 69,
   "id": "a77975f4-5759-4c04-8757-6212ba60091c",
   "metadata": {
    "editable": true,
    "slideshow": {
     "slide_type": ""
    },
    "tags": []
   },
   "outputs": [
    {
     "data": {
      "text/plain": [
       "[1 2 3|1 0 0]\n",
       "[1 1 2|0 1 0]\n",
       "[1 0 4|0 0 1]"
      ]
     },
     "execution_count": 69,
     "metadata": {},
     "output_type": "execute_result"
    }
   ],
   "source": [
    "# Matrice augmentée\n",
    "J = A.augment(matrix.identity(3), subdivide=True)\n",
    "J"
   ]
  },
  {
   "cell_type": "code",
   "execution_count": 70,
   "id": "c3796c74-cc3a-4078-9c4f-ce623f4b9d10",
   "metadata": {},
   "outputs": [
    {
     "data": {
      "text/plain": [
       "[ 1  0  0]\n",
       "[-1  1  0]\n",
       "[-1  0  1]"
      ]
     },
     "execution_count": 70,
     "metadata": {},
     "output_type": "execute_result"
    }
   ],
   "source": [
    "E2 = matrix([[1, 0, 0],\n",
    "              [-1, 1, 0],\n",
    "              [-1, 0, 1]])\n",
    "E2"
   ]
  },
  {
   "cell_type": "code",
   "execution_count": 71,
   "id": "f06c53f1-f634-4dfb-a492-88526be115a0",
   "metadata": {},
   "outputs": [
    {
     "data": {
      "text/plain": [
       "[ 1  2  3| 1  0  0]\n",
       "[ 0 -1 -1|-1  1  0]\n",
       "[ 0 -2  1|-1  0  1]"
      ]
     },
     "execution_count": 71,
     "metadata": {},
     "output_type": "execute_result"
    }
   ],
   "source": [
    "E2 * J"
   ]
  },
  {
   "cell_type": "code",
   "execution_count": 72,
   "id": "12916106-aaae-4b94-b8a5-de4d9b0622ef",
   "metadata": {},
   "outputs": [
    {
     "data": {
      "text/plain": [
       "[ 1  2  3| 1  0  0]\n",
       "[ 0 -1 -1|-1  1  0]\n",
       "[ 0  0  3| 1 -2  1]"
      ]
     },
     "execution_count": 72,
     "metadata": {},
     "output_type": "execute_result"
    }
   ],
   "source": [
    "E32 = matrix([[1, 0, 0],\n",
    "              [0, 1, 0],\n",
    "              [0, -2, 1]])\n",
    "E32 * E2 * J"
   ]
  },
  {
   "cell_type": "code",
   "execution_count": 73,
   "id": "9cfbf7ea-0ef1-4b4e-b07d-5adf199a1a7f",
   "metadata": {},
   "outputs": [
    {
     "data": {
      "text/plain": [
       "[   1    2    0|   0    2   -1]\n",
       "[   0   -1    0|-2/3  1/3  1/3]\n",
       "[   0    0    1| 1/3 -2/3  1/3]"
      ]
     },
     "execution_count": 73,
     "metadata": {},
     "output_type": "execute_result"
    }
   ],
   "source": [
    "E3_ = matrix([[1, 0, -1],\n",
    "              [0, 1, 1/3],\n",
    "              [0, 0, 1/3]])\n",
    "E3_ * E32 * E2 * J"
   ]
  },
  {
   "cell_type": "code",
   "execution_count": 74,
   "id": "d7e46165-781c-4804-b0da-0cf871a76693",
   "metadata": {},
   "outputs": [
    {
     "data": {
      "text/plain": [
       "[   1    0    0|-4/3  8/3 -1/3]\n",
       "[   0    1    0| 2/3 -1/3 -1/3]\n",
       "[   0    0    1| 1/3 -2/3  1/3]"
      ]
     },
     "execution_count": 74,
     "metadata": {},
     "output_type": "execute_result"
    }
   ],
   "source": [
    "E2_ = matrix([[1, 2, 0],\n",
    "              [0, -1, 0],\n",
    "              [0, 0, 1]])\n",
    "E2_ * E3_ * E32 * E2 * J"
   ]
  },
  {
   "cell_type": "code",
   "execution_count": 75,
   "id": "26bc4e8a-bcf2-4147-a2b5-77930156d81a",
   "metadata": {},
   "outputs": [
    {
     "data": {
      "text/plain": [
       "[-4/3  8/3 -1/3]\n",
       "[ 2/3 -1/3 -1/3]\n",
       "[ 1/3 -2/3  1/3]"
      ]
     },
     "execution_count": 75,
     "metadata": {},
     "output_type": "execute_result"
    }
   ],
   "source": [
    "A.inverse()"
   ]
  },
  {
   "cell_type": "markdown",
   "id": "01049846-e0e7-4e5a-97f2-a42220b973f1",
   "metadata": {},
   "source": [
    "## Exercice 4\n",
    "\n",
    "A l'aide de SageMath comparez:\n",
    "- $A*(B+C)$\n",
    "- $(AB) + (AC)$\n",
    "\n",
    "Vous pourrez utiliser la définition suivante pour générer une matrice (4*4) à coefficients aléatoires entre 0 et 10.\n",
    "\n",
    "```py\n",
    "import random\n",
    "Matrix(ZZ, 4,  lambda i, j : random.randint(0,10))\n",
    "```\n",
    "\n",
    "De manière  générale, la propriété distributivité de la multiplication sur l'addition est vraie pour les matrices:\n",
    "$$\n",
    "A*(B+C) = (AB) + (AC)\n",
    "$$"
   ]
  },
  {
   "cell_type": "code",
   "execution_count": 76,
   "id": "2188e924-e98a-44e7-91c7-f5a1fb472d23",
   "metadata": {},
   "outputs": [
    {
     "data": {
      "text/plain": [
       "6"
      ]
     },
     "execution_count": 76,
     "metadata": {},
     "output_type": "execute_result"
    }
   ],
   "source": [
    "import random\n",
    "random.randint(0,10)"
   ]
  },
  {
   "cell_type": "code",
   "execution_count": 77,
   "id": "0e9bfeed-37a0-4f09-bee3-f990e34fa724",
   "metadata": {},
   "outputs": [
    {
     "data": {
      "text/plain": [
       "[ 4  2  0  2]\n",
       "[ 5  4  8 10]\n",
       "[ 8  2  0  7]\n",
       "[ 2  2 10  7]"
      ]
     },
     "execution_count": 77,
     "metadata": {},
     "output_type": "execute_result"
    }
   ],
   "source": [
    "A = Matrix(ZZ, 4,  lambda i, j : random.randint(0,10))\n",
    "A"
   ]
  },
  {
   "cell_type": "code",
   "execution_count": 78,
   "id": "4338f93f-f431-4ba2-a3d5-3748b79cb1f6",
   "metadata": {},
   "outputs": [
    {
     "data": {
      "text/plain": [
       "[ 4  5  3 10]\n",
       "[10  4  6  9]\n",
       "[10  1 10 10]\n",
       "[ 9  3  7  3]"
      ]
     },
     "execution_count": 78,
     "metadata": {},
     "output_type": "execute_result"
    }
   ],
   "source": [
    "B = Matrix(ZZ, 4,  lambda i, j : random.randint(1,10))\n",
    "B"
   ]
  },
  {
   "cell_type": "code",
   "execution_count": 79,
   "id": "06ab1bdd-4241-49a1-add5-9c04fc7233e2",
   "metadata": {},
   "outputs": [
    {
     "data": {
      "text/plain": [
       "[ 9  2  1  5]\n",
       "[ 4  5  9  3]\n",
       "[ 5  7  1  5]\n",
       "[ 7  4 10  2]"
      ]
     },
     "execution_count": 79,
     "metadata": {},
     "output_type": "execute_result"
    }
   ],
   "source": [
    "C = Matrix(ZZ, 4,  lambda i, j : random.randint(1,10))\n",
    "C"
   ]
  },
  {
   "cell_type": "code",
   "execution_count": 80,
   "id": "0d774ecc-c480-435b-9a38-2514331ec52c",
   "metadata": {},
   "outputs": [
    {
     "data": {
      "text/plain": [
       "[112  60  80  94]\n",
       "[401 205 338 293]\n",
       "[244 123 181 179]\n",
       "[316 161 267 239]"
      ]
     },
     "execution_count": 80,
     "metadata": {},
     "output_type": "execute_result"
    }
   ],
   "source": [
    "A * (B + C)"
   ]
  },
  {
   "cell_type": "code",
   "execution_count": 81,
   "id": "d50756bb-0ad6-4b07-bd3d-81c2c040eff2",
   "metadata": {},
   "outputs": [
    {
     "data": {
      "text/plain": [
       "[112  60  80  94]\n",
       "[401 205 338 293]\n",
       "[244 123 181 179]\n",
       "[316 161 267 239]"
      ]
     },
     "execution_count": 81,
     "metadata": {},
     "output_type": "execute_result"
    }
   ],
   "source": [
    "(A * B) + (A * C)"
   ]
  },
  {
   "cell_type": "code",
   "execution_count": 82,
   "id": "a89f53a7-1dfb-49d0-af2a-937422919f0e",
   "metadata": {},
   "outputs": [
    {
     "data": {
      "text/plain": [
       "True"
      ]
     },
     "execution_count": 82,
     "metadata": {},
     "output_type": "execute_result"
    }
   ],
   "source": [
    "A * (B + C) == (A * B) + (A * C)"
   ]
  },
  {
   "cell_type": "markdown",
   "id": "8b2e9fb4-017d-4ff4-ad46-4d34ee5855b1",
   "metadata": {},
   "source": [
    "## Exercice 5\n",
    "Montrez l'associativité de la multiplication dans $\\mathcal M_{n,n}(\\mathbb R)$\n",
    "$$ \\forall A,B,C \\in \\mathcal M_{n,p}(\\mathbb R)^3, A*(B*C)=(A*B)*C$$"
   ]
  },
  {
   "cell_type": "markdown",
   "id": "616361ff-b988-40e0-b11f-b1efc9eecd46",
   "metadata": {},
   "source": [
    "## Exercice 6\n",
    "$$\n",
    "U=\n",
    "\\begin{bmatrix}\n",
    "1 & a & b \\\\\n",
    "0 & 1 & c \\\\\n",
    "0 & 0 & 1 \\\\\n",
    "\\end{bmatrix}\n",
    "$$\n",
    "\n",
    "A l'aide de la méthode d'élimination de Gauss-Jordan, trouvez l'inverse de U"
   ]
  },
  {
   "cell_type": "code",
   "execution_count": 83,
   "id": "576f3adb-7eb5-4331-b0b8-149368796503",
   "metadata": {},
   "outputs": [
    {
     "data": {
      "text/plain": [
       "[      1      -a a*c - b]\n",
       "[      0       1      -c]\n",
       "[      0       0       1]"
      ]
     },
     "execution_count": 83,
     "metadata": {},
     "output_type": "execute_result"
    }
   ],
   "source": [
    "var('a', 'b', 'c')\n",
    "U = matrix([[1, a, b],\n",
    "            [0, 1, c],\n",
    "            [0, 0, 1]])\n",
    "U.inverse()"
   ]
  },
  {
   "cell_type": "markdown",
   "id": "afe9cb3f-9347-46a0-9a98-cb44235ff546",
   "metadata": {},
   "source": [
    "## Exercice 7\n",
    "$$\n",
    "A=\n",
    "\\begin{bmatrix}\n",
    "a & b & b \\\\\n",
    "a & a & b \\\\\n",
    "a & a & a \\\\\n",
    "\\end{bmatrix}\n",
    "$$\n",
    "\n",
    "Trouvez les conditions sur a et b pour que la matrice A soit inversible.\n",
    "Donnez son inverse lorsque c'est possible"
   ]
  },
  {
   "cell_type": "code",
   "execution_count": 84,
   "id": "1ed53b39-8fa6-4084-8168-50ba8d3f0470",
   "metadata": {},
   "outputs": [
    {
     "data": {
      "text/plain": [
       "[1 0 0]\n",
       "[1 1 0]\n",
       "[1 1 1]"
      ]
     },
     "execution_count": 84,
     "metadata": {},
     "output_type": "execute_result"
    }
   ],
   "source": [
    "var('a', 'b')\n",
    "L = matrix(3, lambda i, j : i >= j)\n",
    "L"
   ]
  },
  {
   "cell_type": "code",
   "execution_count": 85,
   "id": "bde42a15-6435-416f-a478-85cad0e6d7c1",
   "metadata": {},
   "outputs": [
    {
     "data": {
      "text/plain": [
       "[a 0 0]\n",
       "[a a 0]\n",
       "[a a a]"
      ]
     },
     "execution_count": 85,
     "metadata": {},
     "output_type": "execute_result"
    }
   ],
   "source": [
    "a*L"
   ]
  },
  {
   "cell_type": "code",
   "execution_count": 86,
   "id": "8c411faf-3453-4141-b91e-600cad924c88",
   "metadata": {},
   "outputs": [
    {
     "data": {
      "text/plain": [
       "[a b b]\n",
       "[a a b]\n",
       "[a a a]"
      ]
     },
     "execution_count": 86,
     "metadata": {},
     "output_type": "execute_result"
    }
   ],
   "source": [
    "U = matrix(3, lambda i, j : i < j)\n",
    "A = L*a + U*b\n",
    "A"
   ]
  },
  {
   "cell_type": "code",
   "execution_count": 87,
   "id": "e08a91dd-4916-4bb3-b801-dc3204c69dc7",
   "metadata": {},
   "outputs": [
    {
     "data": {
      "text/plain": [
       "[1/a + b/((a - b)*a)                   0      -b/((a - b)*a)]\n",
       "[         -1/(a - b)           1/(a - b)                   0]\n",
       "[                  0          -1/(a - b)           1/(a - b)]"
      ]
     },
     "execution_count": 87,
     "metadata": {},
     "output_type": "execute_result"
    }
   ],
   "source": [
    "A.inverse()"
   ]
  },
  {
   "cell_type": "markdown",
   "id": "8b795d0b-8101-4539-8683-b6e2c2596e20",
   "metadata": {},
   "source": [
    "A est inversible si et seulement si\n",
    "$$a \\neq 0$$\n",
    "$$a \\neq b$$"
   ]
  },
  {
   "cell_type": "code",
   "execution_count": 88,
   "id": "a935964e-3045-4ca6-b096-d267411e5fc7",
   "metadata": {},
   "outputs": [
    {
     "data": {
      "text/plain": [
       "(a^2 - a*b)*a - (a*b - b^2)*a"
      ]
     },
     "execution_count": 88,
     "metadata": {},
     "output_type": "execute_result"
    }
   ],
   "source": [
    "A.determinant()"
   ]
  },
  {
   "cell_type": "code",
   "execution_count": null,
   "id": "6e972a33-3bea-42fb-b818-ce27802c4af5",
   "metadata": {},
   "outputs": [],
   "source": []
  }
 ],
 "metadata": {
  "kernelspec": {
   "display_name": "SageMath 10.1",
   "language": "sage",
   "name": "sagemath-10.1"
  },
  "language_info": {
   "codemirror_mode": {
    "name": "ipython",
    "version": 3
   },
   "file_extension": ".py",
   "mimetype": "text/x-python",
   "name": "python",
   "nbconvert_exporter": "python",
   "pygments_lexer": "ipython3",
   "version": "3.11.1"
  }
 },
 "nbformat": 4,
 "nbformat_minor": 5
}
