{
 "cells": [
  {
   "cell_type": "markdown",
   "id": "4e145027-3508-4ab1-b568-c31c40036e49",
   "metadata": {},
   "source": [
    "# Algèbre linéaire\n",
    "\n",
    "Utilisation de [SageMath](https://www.sagemath.org/) pour les calculs.\n",
    "\n",
    "- [TD1 Système d'équations](TD1.ipynb)\n",
    "- [TD2 Multiplication matricielle et produit scalaire](TD2.ipynb)\n",
    "- [TD2 solution](TD2_solution.ipynb)\n",
    "- [TD3 Méthode du pivot de Gauss](TD3.ipynb) Identique au TD4 - revoir numérotation: (1,2) -> (2,3) et TD1: rappels\n",
    "- [TD4 Méthode du pivot de Gauss](TD4.ipynb)\n",
    "- [TD4 solution](TD4_solution.ipynb)\n",
    "- [TD5 Multiplication, Inverse](TD5.ipynb)\n",
    "- [TD5 solution](TD5_solution.ipynb)\n",
    "- [TD6 Factorisation $LU$, transposées, permutations et espaces vectoriels](TD6.ipynb)\n",
    "- [TD6 solution](TD6_solution.ipynb)"
   ]
  },
  {
   "cell_type": "code",
   "execution_count": null,
   "id": "e23724d5-d28d-4fd6-a3c4-fc660f5928fc",
   "metadata": {},
   "outputs": [],
   "source": []
  }
 ],
 "metadata": {
  "kernelspec": {
   "display_name": "SageMath 10.1",
   "language": "sage",
   "name": "sagemath-10.1"
  },
  "language_info": {
   "codemirror_mode": {
    "name": "ipython",
    "version": 3
   },
   "file_extension": ".py",
   "mimetype": "text/x-python",
   "name": "python",
   "nbconvert_exporter": "python",
   "pygments_lexer": "ipython3",
   "version": "3.11.1"
  }
 },
 "nbformat": 4,
 "nbformat_minor": 5
}
