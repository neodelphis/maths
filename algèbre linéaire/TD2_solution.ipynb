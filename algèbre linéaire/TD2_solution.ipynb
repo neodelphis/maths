{
 "cells": [
  {
   "cell_type": "markdown",
   "id": "0846abd7-52c9-4539-bea7-3f45df82ad43",
   "metadata": {},
   "source": [
    "# Multiplication matricielle et produit scalaire\n",
    "\n",
    "## Produit scalaire\n",
    "$$\n",
    "X =\n",
    "\\begin{bmatrix}\n",
    "1\\\\ \n",
    "2\\\\ \n",
    "3 \\\\\n",
    "4\n",
    "\\end{bmatrix}\n",
    "$$\n",
    "\n",
    "Transposée:\n",
    "$$\n",
    "X^T =\n",
    "\\begin{bmatrix}\n",
    "1 & 2 & 3 & 4\n",
    "\\end{bmatrix}\n",
    "$$\n",
    "\n",
    "Calculez:\n",
    "$$\n",
    "X^T.X\n",
    "\\tag {1}\n",
    "$$"
   ]
  },
  {
   "cell_type": "code",
   "execution_count": 22,
   "id": "f5c269b5-b226-4895-b245-a1c4bc9c9691",
   "metadata": {},
   "outputs": [
    {
     "data": {
      "text/plain": [
       "(1, 2, 3, 4)"
      ]
     },
     "execution_count": 22,
     "metadata": {},
     "output_type": "execute_result"
    }
   ],
   "source": [
    "X = vector(ZZ, [1, 2, 3, 4])\n",
    "X"
   ]
  },
  {
   "cell_type": "code",
   "execution_count": 23,
   "id": "dcbebb24-43de-485d-b85f-4bf1416e50ad",
   "metadata": {},
   "outputs": [
    {
     "data": {
      "text/plain": [
       "30"
      ]
     },
     "execution_count": 23,
     "metadata": {},
     "output_type": "execute_result"
    }
   ],
   "source": [
    "X * X"
   ]
  },
  {
   "cell_type": "markdown",
   "id": "0c3c5d66-df9d-4cbb-b875-0cd9cb82291c",
   "metadata": {},
   "source": [
    "# Multiplication matricielle\n",
    "\n",
    "$$\n",
    "\\begin{bmatrix}\n",
    "-2 & 1 & 0\n",
    "\\end{bmatrix}\n",
    "\\begin{bmatrix}\n",
    "1 & 2 & 0\\\\ \n",
    "2 & 0 & 3\\\\ \n",
    "4 & 1 & 1\n",
    "\\end{bmatrix}\n",
    "\\tag {2}\n",
    "$$"
   ]
  },
  {
   "cell_type": "code",
   "execution_count": 9,
   "id": "b426c3ed-6c37-4296-94cb-c7343daec36f",
   "metadata": {},
   "outputs": [],
   "source": [
    "Y = vector(ZZ, [-2, 1, 0])\n",
    "A = matrix(ZZ, [[1, 2,0],\n",
    "                [2, 0, 3],\n",
    "                [4, 1, 1]])"
   ]
  },
  {
   "cell_type": "code",
   "execution_count": 12,
   "id": "65ca104a-93de-499b-a238-f04c96b6e02d",
   "metadata": {},
   "outputs": [
    {
     "data": {
      "text/plain": [
       "(0, -4, 3)"
      ]
     },
     "execution_count": 12,
     "metadata": {},
     "output_type": "execute_result"
    }
   ],
   "source": [
    "Y * A"
   ]
  },
  {
   "cell_type": "markdown",
   "id": "8d122d4c-c697-4a10-add8-35295f1ada35",
   "metadata": {},
   "source": [
    "$$\n",
    "\\begin{bmatrix}\n",
    "1 & 0 & 0\\\\\n",
    "-2 & 1 & 0\\\\\n",
    "-4 & 0 & 1\\\\\n",
    "\\end{bmatrix}\n",
    "\\begin{bmatrix}\n",
    "1 & 2 & 0\\\\ \n",
    "2 & 0 & 3\\\\ \n",
    "4 & 1 & 1\n",
    "\\end{bmatrix}\n",
    "\\tag {3}\n",
    "$$"
   ]
  },
  {
   "cell_type": "code",
   "execution_count": 13,
   "id": "51d77b5e-23b8-47a0-a9e1-44392a0cd392",
   "metadata": {},
   "outputs": [
    {
     "data": {
      "text/plain": [
       "[ 1  2  0]\n",
       "[ 0 -4  3]\n",
       "[ 0 -7  1]"
      ]
     },
     "execution_count": 13,
     "metadata": {},
     "output_type": "execute_result"
    }
   ],
   "source": [
    "A = matrix(ZZ, [[1, 2,0],\n",
    "                [2, 0, 3],\n",
    "                [4, 1, 1]])\n",
    "E = matrix(ZZ, [[ 1, 0, 0],\n",
    "                [-2, 1, 0],\n",
    "                [-4, 0, 1]])\n",
    "E * A"
   ]
  },
  {
   "cell_type": "markdown",
   "id": "8da349dc-3dec-46dc-88a9-b08d87bf1bfd",
   "metadata": {},
   "source": [
    "$$\n",
    "\\begin{bmatrix}\n",
    "1 & 0 & 0\\\\\n",
    "0 & 1 & 0\\\\\n",
    "0 & 0 & 1\\\\\n",
    "\\end{bmatrix}\n",
    "\\begin{bmatrix}\n",
    "1 & 2 & 0\\\\ \n",
    "2 & 0 & 3\\\\ \n",
    "4 & 1 & 1\n",
    "\\end{bmatrix}\n",
    "\\tag {4}\n",
    "$$"
   ]
  },
  {
   "cell_type": "code",
   "execution_count": 24,
   "id": "b6646db6-fd13-4c12-84ff-0e84e53284cf",
   "metadata": {},
   "outputs": [
    {
     "data": {
      "text/plain": [
       "[1 2 0]\n",
       "[2 0 3]\n",
       "[4 1 1]"
      ]
     },
     "execution_count": 24,
     "metadata": {},
     "output_type": "execute_result"
    }
   ],
   "source": [
    "A = matrix(ZZ, [[1, 2,0],\n",
    "                [2, 0, 3],\n",
    "                [4, 1, 1]])\n",
    "I = matrix(ZZ, [[ 1, 0, 0],\n",
    "                [0, 1, 0],\n",
    "                [0, 0, 1]])\n",
    "I * A"
   ]
  },
  {
   "cell_type": "code",
   "execution_count": 25,
   "id": "7c11da78-1f8d-4f9f-bebc-b7f0870252e2",
   "metadata": {},
   "outputs": [
    {
     "data": {
      "text/plain": [
       "[1 0 0]\n",
       "[0 1 0]\n",
       "[0 0 1]"
      ]
     },
     "execution_count": 25,
     "metadata": {},
     "output_type": "execute_result"
    }
   ],
   "source": [
    "# Matrice identité de rang 3:\n",
    "matrix.identity(3)"
   ]
  },
  {
   "cell_type": "markdown",
   "id": "0b4ebf7b-2d46-454c-a67e-cdfd4dcce73f",
   "metadata": {},
   "source": [
    "$$\n",
    "\\begin{bmatrix}\n",
    "1 & 0 & 0\\\\\n",
    "-2 & 1 & 0\\\\\n",
    "-4 & 0 & 1\\\\\n",
    "\\end{bmatrix}\n",
    "\\begin{bmatrix}\n",
    "1 & 0 & 0\\\\\n",
    "2 & 1 & 0\\\\\n",
    "4 & 0 & 1\\\\\n",
    "\\end{bmatrix}\n",
    "\\tag {5}\n",
    "$$"
   ]
  },
  {
   "cell_type": "code",
   "execution_count": 26,
   "id": "a39943f1-1164-45de-8741-3e3a94d39816",
   "metadata": {},
   "outputs": [
    {
     "data": {
      "text/plain": [
       "[1 0 0]\n",
       "[0 1 0]\n",
       "[0 0 1]"
      ]
     },
     "execution_count": 26,
     "metadata": {},
     "output_type": "execute_result"
    }
   ],
   "source": [
    "E = matrix(ZZ, [[ 1, 0, 0],\n",
    "                [-2, 1, 0],\n",
    "                [-4, 0, 1]])\n",
    "F =  matrix(ZZ, [[1, 0, 0],\n",
    "                [2, 1, 0],\n",
    "                [4, 0, 1]])\n",
    "E * F"
   ]
  },
  {
   "cell_type": "code",
   "execution_count": 18,
   "id": "783a94d0-bbe4-485d-b48c-3cd939638c40",
   "metadata": {},
   "outputs": [
    {
     "data": {
      "text/plain": [
       "[1 0 0]\n",
       "[0 1 0]\n",
       "[0 0 1]"
      ]
     },
     "execution_count": 18,
     "metadata": {},
     "output_type": "execute_result"
    }
   ],
   "source": [
    "F * E"
   ]
  },
  {
   "cell_type": "markdown",
   "id": "c4b95961-6256-42f6-839c-7c5af41386e3",
   "metadata": {},
   "source": [
    "$$\n",
    "\\begin{bmatrix}\n",
    "0 & 0 & 1\\\\\n",
    "1 & 0 & 0\\\\\n",
    "0 & 1 & 0\\\\\n",
    "\\end{bmatrix}\n",
    "\\begin{bmatrix}\n",
    "1 & 2 & 0\\\\ \n",
    "2 & 0 & 3\\\\ \n",
    "4 & 1 & 1\n",
    "\\end{bmatrix}\n",
    "\\tag {6}\n",
    "$$\n"
   ]
  },
  {
   "cell_type": "code",
   "execution_count": 21,
   "id": "587a4278-76a0-4e43-a2e1-97919e37acdd",
   "metadata": {},
   "outputs": [
    {
     "data": {
      "text/plain": [
       "[4 1 1]\n",
       "[1 2 0]\n",
       "[2 0 3]"
      ]
     },
     "execution_count": 21,
     "metadata": {},
     "output_type": "execute_result"
    }
   ],
   "source": [
    "A = matrix(ZZ, [[1, 2,0],\n",
    "                [2, 0, 3],\n",
    "                [4, 1, 1]])\n",
    "P = matrix(ZZ, [[0, 0, 1],\n",
    "                [1, 0, 0],\n",
    "                [0, 1, 0]])\n",
    "P * A"
   ]
  },
  {
   "cell_type": "markdown",
   "id": "2580e6ff-a4d5-4379-bc78-ec3621e12c85",
   "metadata": {},
   "source": [
    "# Vue d'ensemble des principales idées\n",
    "\n",
    "$A$ est une matrice telle que l'ensemble des solutions de l'équation:\n",
    "\n",
    "$$\n",
    "A x =\n",
    "\\begin{bmatrix}\n",
    "1\\\\ \n",
    "4\\\\ \n",
    "1 \\\\\n",
    "1\n",
    "\\end{bmatrix}\n",
    "$$\n",
    "\n",
    "est de la forme\n",
    "\n",
    "$$\n",
    "\\left \\{  x = \n",
    "\\begin{bmatrix}\n",
    "0\\\\ \n",
    "1\\\\ \n",
    "1\n",
    "\\end{bmatrix} + c\n",
    "\\begin{bmatrix}\n",
    "0\\\\ \n",
    "2\\\\ \n",
    "1\n",
    "\\end{bmatrix}, c \\in \\mathbb{R}\n",
    " \\right \\}\n",
    "$$\n",
    "\n",
    "Que peut-on dire sur les colonnes de $A$ ?"
   ]
  },
  {
   "cell_type": "code",
   "execution_count": null,
   "id": "cc4f3c54-264b-45ad-aa7d-055a43bacfa4",
   "metadata": {},
   "outputs": [],
   "source": []
  }
 ],
 "metadata": {
  "kernelspec": {
   "display_name": "SageMath 10.1",
   "language": "sage",
   "name": "sagemath-10.1"
  },
  "language_info": {
   "codemirror_mode": {
    "name": "ipython",
    "version": 3
   },
   "file_extension": ".py",
   "mimetype": "text/x-python",
   "name": "python",
   "nbconvert_exporter": "python",
   "pygments_lexer": "ipython3",
   "version": "3.11.1"
  }
 },
 "nbformat": 4,
 "nbformat_minor": 5
}
