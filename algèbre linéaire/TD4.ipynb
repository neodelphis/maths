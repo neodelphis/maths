{
 "cells": [
  {
   "cell_type": "markdown",
   "id": "4d504e78-e1af-407a-943b-57395663c847",
   "metadata": {},
   "source": [
    "# TD3 Méthode du pivot de Gauss\n",
    "\n",
    "Elimination de Gauss-Jordan (aussi appelée méthode du pivot de Gauss) via la multiplication par des matrices d'élimination\n",
    "\n",
    "- Multiplication matricielle\n",
    "- Résolution d'un système $A\\boldsymbol{x} = \\boldsymbol{b}$ par élimination\n",
    "- Inverse d'une matrice\n",
    "\n",
    "On note $\\mathcal M_{n,p}(\\mathbb K)$ l'ensemble des matrices à $n$ lignes et $p$ colonnes à coefficients dans $\\mathbb K$\n"
   ]
  },
  {
   "cell_type": "markdown",
   "id": "4bca2bab-cf1c-43a0-9bdf-92a4ae003505",
   "metadata": {},
   "source": [
    "## Exercice 1\n",
    "\n",
    "A l'aide de la méthode d'élimination sur les matrices, faire apparaître les pivots et $E_{21}$, pour faire l'algorithme de résolution de Gauss\n",
    "\n",
    "$$\n",
    "\\begin{equation}\n",
    "    \\begin{cases}\n",
    "      2x_1 + 3x_2 = 5\\\\\n",
    "      6x_1 + 15x_2 = 12\\\\\n",
    "    \\end{cases}       \n",
    "\\end{equation}\n",
    "$$"
   ]
  },
  {
   "cell_type": "markdown",
   "id": "49acc100-2f5c-44c4-8835-a07269a32a93",
   "metadata": {},
   "source": [
    "## Exercice 2\n",
    "A l'aide d'un exemple particulier de $\\mathcal M_{2,2}(\\mathbb R)$ (ensemble des matrices carré $(2,2)$ à coefficients réels), montrez que la multiplication n'est pas commutative.\n",
    "$$ A*B \\neq B*A$$\n",
    "\n",
    "Vérifier vos calculs grâce à SageMath"
   ]
  },
  {
   "cell_type": "markdown",
   "id": "1d94df6a-8b46-47e9-a6eb-438a5f432120",
   "metadata": {},
   "source": [
    "## Exercice 3\n",
    "\n",
    "A l'aide de la méthode d'élimination résoudre le sytème d'équations suivant, en faisant apparaître les matrices d'élimination et de permutation.\n",
    "\n",
    "$$\n",
    "\\begin{equation}\n",
    "    \\begin{cases}\n",
    "      x_1 - x_2 - x_3 + x_4 = 0\\\\\n",
    "      2x_1 + 2x_3 = 8\\\\\n",
    "      -x_2 - 2x_3 = -8\\\\\n",
    "      3x_1 - 3x_2 - 2x_3 + 4x_4 = 7\\\\\n",
    "    \\end{cases}       \n",
    "\\end{equation}\n",
    "$$"
   ]
  },
  {
   "cell_type": "markdown",
   "id": "c6663612-f412-4016-a192-4550f4162fb8",
   "metadata": {},
   "source": [
    "## Exercice 4\n",
    "\n",
    "Trouver la matrice E qui permet de réduire le triangle de Pascal à une matrice contenant un triangle de Pascal plus petit.\n",
    "\n",
    "Indice: [Construction du triange de Pascal](https://www.youtube.com/watch?v=N1Pw-QYPTSo)\n",
    "\n",
    "$$\n",
    "\\begin{bmatrix}\n",
    "1 & 0 & 0 & 0\\\\\n",
    "1 & 1 & 0 & 0\\\\\n",
    "1 & 2 & 1 & 0\\\\\n",
    "1 & 3 & 3 & 1\\\\\n",
    "\\end{bmatrix}\n",
    "=P_1\n",
    "$$\n",
    "\n",
    "$$\n",
    "E.P_1=\n",
    "\\begin{bmatrix}\n",
    "1 & 0 & 0 & 0\\\\\n",
    "0 & 1 & 0 & 0\\\\\n",
    "0 & 1 & 1 & 0\\\\\n",
    "0 & 1 & 2 & 1\\\\\n",
    "\\end{bmatrix}=P_2\n",
    "$$\n",
    "\n",
    "Quelle matrice $M$, trouvée en multipliant plusieurs matrice de type E entre elles, permet de réduire $P$ à $I$"
   ]
  },
  {
   "cell_type": "code",
   "execution_count": null,
   "id": "d486439a-cd2e-47c8-8db9-d93d5bb81f65",
   "metadata": {},
   "outputs": [],
   "source": []
  }
 ],
 "metadata": {
  "kernelspec": {
   "display_name": "SageMath 10.1",
   "language": "sage",
   "name": "sagemath-10.1"
  },
  "language_info": {
   "codemirror_mode": {
    "name": "ipython",
    "version": 3
   },
   "file_extension": ".py",
   "mimetype": "text/x-python",
   "name": "python",
   "nbconvert_exporter": "python",
   "pygments_lexer": "ipython3",
   "version": "3.11.1"
  }
 },
 "nbformat": 4,
 "nbformat_minor": 5
}
