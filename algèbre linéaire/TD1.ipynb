{
 "cells": [
  {
   "cell_type": "markdown",
   "id": "72791264-0919-4ded-8049-d05c6f45dd2d",
   "metadata": {},
   "source": [
    "# TP1 Système d'équations\n",
    "\n",
    "Résolution d'un système d'équations.\n",
    "Interprétation du système d'équation d'un point de vue géométrique."
   ]
  },
  {
   "cell_type": "markdown",
   "id": "7db5cc34-8a8c-4259-bfac-6a00c8f8a268",
   "metadata": {},
   "source": [
    "## Exercice 1\n",
    "\n",
    "Résoudre le sytème d'équations suivant:\n",
    "\n",
    "$$\n",
    "\\begin{equation}\n",
    "    \\begin{cases}\n",
    "      x - y + z = 2\\\\\n",
    "      x + y - z = 0\\\\\n",
    "      x + y + z = 6\n",
    "    \\end{cases}       \n",
    "\\end{equation}\n",
    "$$"
   ]
  },
  {
   "cell_type": "markdown",
   "id": "8ba9324e-18cb-425a-8e55-62d83b69dfff",
   "metadata": {},
   "source": [
    "## Exercice 2\n",
    "\n",
    "Trouver une combinaison linéaire du type $x_{1}w_{1}+x_{2}w_{2}+x_{3}w_{3}$ qui donne le vecteur nul.\n",
    "$$\n",
    "w_1 =\n",
    "\\begin{bmatrix}\n",
    "1\\\\ \n",
    "2\\\\ \n",
    "3\n",
    "\\end{bmatrix},\n",
    "w_2 =\n",
    "\\begin{bmatrix}\n",
    "4\\\\ \n",
    "5\\\\ \n",
    "6\n",
    "\\end{bmatrix},\n",
    "w_3 =\n",
    "\\begin{bmatrix}\n",
    "7\\\\ \n",
    "8\\\\ \n",
    "9\n",
    "\\end{bmatrix}\n",
    "$$\n",
    "\n",
    "Ces vecteurs sont linéairement (dépendants)(indépendants).\n",
    "\n",
    "Ces 3 vecteur appartiennent à ...\n",
    "\n",
    "La matrice W dont les colonnes sont ces vecteurs n'est pas inversible."
   ]
  },
  {
   "cell_type": "markdown",
   "id": "52d185ec-b44b-49e0-bf40-787a82d6927f",
   "metadata": {},
   "source": [
    "## Exercice 3\n",
    "\n",
    "Multiplier:\n",
    "\n",
    "$$\n",
    "\\begin{bmatrix}\n",
    "1 & 2 & 0\\\\ \n",
    "2 & 0 & 3\\\\ \n",
    "4 & 1 & 1\n",
    "\\end{bmatrix}\n",
    "\\begin{bmatrix}\n",
    "3\\\\ \n",
    "-2\\\\ \n",
    "1\n",
    "\\end{bmatrix}\n",
    "$$\n"
   ]
  },
  {
   "cell_type": "markdown",
   "id": "be9e3ceb-9bd6-41b7-aac3-af3651a638dc",
   "metadata": {},
   "source": [
    "## Exercice 4\n",
    "\n",
    "Vrai ou faux?\n",
    "\n",
    "Une matrice de 3 lignes et 2 colonnes: (3,2) multipliée par une matrice (2,3), donne une matrice carrée (3,3)\n",
    "\n",
    "Si c'est faux, écrivez une phrase équivalente qui soit vraie."
   ]
  },
  {
   "cell_type": "code",
   "execution_count": null,
   "id": "42a69987-9d83-4b0d-864b-77fdbac943ca",
   "metadata": {},
   "outputs": [],
   "source": []
  }
 ],
 "metadata": {
  "kernelspec": {
   "display_name": "SageMath 10.1",
   "language": "sage",
   "name": "sagemath-10.1"
  },
  "language_info": {
   "codemirror_mode": {
    "name": "ipython",
    "version": 3
   },
   "file_extension": ".py",
   "mimetype": "text/x-python",
   "name": "python",
   "nbconvert_exporter": "python",
   "pygments_lexer": "ipython3",
   "version": "3.11.1"
  }
 },
 "nbformat": 4,
 "nbformat_minor": 5
}
