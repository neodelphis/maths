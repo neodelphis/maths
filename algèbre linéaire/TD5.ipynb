{
 "cells": [
  {
   "cell_type": "markdown",
   "id": "4d504e78-e1af-407a-943b-57395663c847",
   "metadata": {},
   "source": [
    "# TD5 Multiplication, Inverse\n",
    "\n",
    "- Multiplication matricielle\n",
    "- Inverse d'une matrice, Elimination de Gauss-Jordan\n",
    "\n",
    "On note $\\mathcal M_{n,p}(\\mathbb K)$ l'ensemble des matrices à $n$ lignes et $p$ colonnes à coefficients dans $\\mathbb K$"
   ]
  },
  {
   "cell_type": "markdown",
   "id": "dbf95422-9f23-4ce4-968f-a0b864dbaa10",
   "metadata": {},
   "source": [
    "## Exercice 1\n",
    "\n",
    "A l'aide la multiplications à gauche par des matrices d'élimination et de de permutation, tansformez la matrice suivante en matrice triangulaire supérieure.\n",
    "\n",
    "$$\n",
    "\\begin{bmatrix}\n",
    "1 & 2 & 3 \\\\\n",
    "1 & 1 & 2 \\\\\n",
    "1 & 0 & 4 \\\\\n",
    "\\end{bmatrix}\n",
    "$$\n",
    "\n",
    "La matrice est elle inversible? (ou question équivalente, peut on trouver un unique x, solution de l'équation $Ax=b$ pour $b \\neq 0$)"
   ]
  },
  {
   "cell_type": "markdown",
   "id": "b1e03426-4a6d-48f1-a70c-0fd17a21ddd2",
   "metadata": {},
   "source": [
    "## Exercice 2\n",
    "\n",
    "A l'aide la multiplications à gauche par des matrices d'élimination et de de permutation, tansformez la matrice suivante en matrice triangulaire supérieure.\n",
    "\n",
    "$$\n",
    "\\begin{bmatrix}\n",
    "1 & 2 & 3 \\\\\n",
    "1 & 1 & 2 \\\\\n",
    "1 & 0 & 1 \\\\\n",
    "\\end{bmatrix}\n",
    "$$\n",
    "\n",
    "La matrice est elle inversible?"
   ]
  },
  {
   "cell_type": "markdown",
   "id": "448dbda9-280a-456c-9197-8b9893ade108",
   "metadata": {},
   "source": [
    "## Exercice 3\n",
    "A l'aide de la méthode d'élimination de Gauss-Jordan, trouvez l'inverse de \n",
    "\n",
    "$$\n",
    "\\begin{bmatrix}\n",
    "1 & 2 & 3 \\\\\n",
    "1 & 1 & 2 \\\\\n",
    "1 & 0 & 4 \\\\\n",
    "\\end{bmatrix}\n",
    "$$"
   ]
  },
  {
   "cell_type": "markdown",
   "id": "01ddbcf6-26b4-415d-b81f-eab9f151a063",
   "metadata": {},
   "source": [
    "## Exercice 4\n",
    "\n",
    "A l'aide de SageMath comparez:\n",
    "- $A*(B+C)$\n",
    "- $(AB) + (AC)$\n",
    "\n",
    "Vous pourrez utiliser la définition suivante pour générer une matrice (4*4) à coefficients aléatoires entre 0 et 10.\n",
    "\n",
    "```py\n",
    "import random\n",
    "Matrix(ZZ, 4,  lambda i, j : random.randint(0,10))\n",
    "```\n",
    "\n",
    "De manière  générale, la propriété distributivité de la multiplication sur l'addition est vraie pour les matrices:\n",
    "$$\n",
    "A*(B+C) = (AB) + (AC)\n",
    "$$"
   ]
  },
  {
   "cell_type": "markdown",
   "id": "8b2e9fb4-017d-4ff4-ad46-4d34ee5855b1",
   "metadata": {},
   "source": [
    "## Exercice 5\n",
    "Montrez l'associativité de la multiplication dans $\\mathcal M_{n,n}(\\mathbb R)$\n",
    "$$ \\forall A,B,C \\in \\mathcal M_{n,p}(\\mathbb R)^3, A*(B*C)=(A*B)*C$$"
   ]
  },
  {
   "cell_type": "markdown",
   "id": "616361ff-b988-40e0-b11f-b1efc9eecd46",
   "metadata": {},
   "source": [
    "## Exercice 6\n",
    "$$\n",
    "U=\n",
    "\\begin{bmatrix}\n",
    "1 & a & b \\\\\n",
    "0 & 1 & c \\\\\n",
    "0 & 0 & 1 \\\\\n",
    "\\end{bmatrix}\n",
    "$$\n",
    "\n",
    "A l'aide de la méthode d'élimination de Gauss-Jordan, trouvez l'inverse de U"
   ]
  },
  {
   "cell_type": "markdown",
   "id": "afe9cb3f-9347-46a0-9a98-cb44235ff546",
   "metadata": {},
   "source": [
    "## Exercice 7\n",
    "$$\n",
    "A=\n",
    "\\begin{bmatrix}\n",
    "a & b & b \\\\\n",
    "a & a & b \\\\\n",
    "a & a & b \\\\\n",
    "\\end{bmatrix}\n",
    "$$\n",
    "\n",
    "Trouvez les conditions sur a et b pour que la matrice A soit inversible.\n",
    "Donnez son inverse lorsque c'est possible"
   ]
  },
  {
   "cell_type": "code",
   "execution_count": null,
   "id": "1ed53b39-8fa6-4084-8168-50ba8d3f0470",
   "metadata": {},
   "outputs": [],
   "source": []
  }
 ],
 "metadata": {
  "kernelspec": {
   "display_name": "SageMath 10.1",
   "language": "sage",
   "name": "sagemath-10.1"
  },
  "language_info": {
   "codemirror_mode": {
    "name": "ipython",
    "version": 3
   },
   "file_extension": ".py",
   "mimetype": "text/x-python",
   "name": "python",
   "nbconvert_exporter": "python",
   "pygments_lexer": "ipython3",
   "version": "3.11.1"
  }
 },
 "nbformat": 4,
 "nbformat_minor": 5
}
