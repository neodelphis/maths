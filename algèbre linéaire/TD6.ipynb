{
 "cells": [
  {
   "cell_type": "markdown",
   "id": "13ad31ee-5d68-4339-9996-151f755d80a4",
   "metadata": {},
   "source": [
    "# Factorisation $LU$\n",
    "# Transposées, permutations et espaces vectoriels"
   ]
  },
  {
   "cell_type": "markdown",
   "id": "0a2e109f-ec6f-44ef-ae32-9c3c01b86cca",
   "metadata": {},
   "source": [
    "## Exercice 1\n",
    "\n",
    "Quelle matrice E permet de transformer A en une matrice triangulaire supérieure $EA = U$\n",
    "\n",
    "Donner les matrices $L=E^{-1}$ et $U$ de la décomposition $A=LU$\n",
    "\n",
    "$$A=\n",
    "\\begin{bmatrix}\n",
    "1 & 3 & 0 \\\\\n",
    "2 & 4 & 0 \\\\\n",
    "2 & 0 & 1 \\\\\n",
    "\\end{bmatrix}\n",
    "$$"
   ]
  },
  {
   "cell_type": "markdown",
   "id": "896d4d82-7f19-4363-af39-eb03ca46c5ac",
   "metadata": {},
   "source": [
    "## Exercice 2\n",
    "\n",
    "Calculer $L$ et $U$ pour la matrice $A$ lorsque c'est possible\n",
    "\n",
    "$$A=\n",
    "\\begin{bmatrix}\n",
    "1 & 0 & 1 \\\\\n",
    "a & a & a \\\\\n",
    "b & b & a \\\\\n",
    "\\end{bmatrix}\n",
    "$$\n",
    "\n",
    "Donner les conditions sur $a,b$ pour que $A=LU$."
   ]
  },
  {
   "cell_type": "markdown",
   "id": "0f49cbe6-7086-4d19-8605-0aa8f012b4c5",
   "metadata": {},
   "source": [
    "## Exercice 3\n",
    "\n",
    "Calculer $L$ et $U$ pour la matrice symétrique\n",
    "\n",
    "$$A=\n",
    "\\begin{bmatrix}\n",
    "a & a & a & a \\\\\n",
    "a & b & b & b \\\\\n",
    "a & b & c & c \\\\\n",
    "a & b & c & d \\\\\n",
    "\\end{bmatrix}\n",
    "$$\n",
    "\n",
    "Donner les conditions sur $a,b,c,d$ pour que $A=LU$."
   ]
  },
  {
   "cell_type": "markdown",
   "id": "93655181-93cc-49be-8986-4002c6883441",
   "metadata": {},
   "source": [
    "## Exercice 4\n",
    "\n",
    "a - Trouver une matrice de permutation $P \\in \\mathcal M_{3}(\\mathbb R)$ telle que $P^3=I$ avec $P \\neq I$\n",
    "\n",
    "b - Trouver une matrice de permutation $\\widehat{P} \\in \\mathcal M_{4}(\\mathbb R)$ telle que $\\widehat{P}^4 \\neq I$"
   ]
  },
  {
   "cell_type": "markdown",
   "id": "c7fa1280-08b8-424c-b7cf-f1e9be733632",
   "metadata": {},
   "source": [
    "## Exercice 5\n",
    "\n",
    "$$A \\in \\mathcal M_{4}(\\mathbb R)$$\n",
    "\n",
    "\n",
    "a - Combien de coefficients différents de A peut-on choisir si A est symétrique ($A^T=A$)\n",
    "\n",
    "b - Combien de coefficients différents de A peut-on choisir si A est anti-symétrique ($A^T=-A$)"
   ]
  },
  {
   "cell_type": "markdown",
   "id": "af0ac607-e9c4-4f96-95bc-6dfb57fc2c2a",
   "metadata": {},
   "source": [
    "## Exercice 6\n",
    "\n",
    "\n",
    "$$x_1=\n",
    "\\begin{bmatrix}\n",
    "0 \\\\\n",
    "1 \\\\\n",
    "3 \\\\\n",
    "\\end{bmatrix}\n",
    "\\;,\\; \n",
    "x_2=\n",
    "\\begin{bmatrix}\n",
    "2 \\\\\n",
    "4 \\\\\n",
    "0 \\\\\n",
    "\\end{bmatrix}\n",
    "$$\n",
    "\n",
    "a - \n",
    "Trouver $V_1$ sous espace vectoriel de $\\mathbb R^3$ engendré par $x_1$  \n",
    "Trouver $V_2$ sous espace vectoriel de $\\mathbb R^3$ engendré par $x_2$\n",
    "\n",
    "Décrire $V_1 \\cap V_2$\n",
    "\n",
    "b - \n",
    "Trouver $V_3$ sous espace vectoriel de $\\mathbb R^3$ engendré par $\\{x_1, x_2\\}$  \n",
    "\n",
    "$V_3 = V_1 \\cup V_2$ ?\n",
    "\n",
    "Trouver $S$ sous espace vectoriel de $V_3$ tel que $x_1 \\notin S$ et $x_2 \\notin S$\n",
    "\n",
    "c - Décrire $V_3 \\cap \\{ plan \\; x, y\\}$"
   ]
  },
  {
   "cell_type": "markdown",
   "id": "71aec0f1-9c57-4210-920a-1a098ea1726f",
   "metadata": {},
   "source": [
    "## Exercice 7\n",
    "\n",
    "$\\mathcal M_{n}(\\mathbb R)$ forme un espace vectoriel sur $\\mathbb R$\n",
    "\n",
    "\n",
    "Vrai ou faux?\n",
    "\n",
    "Vérifier la proposition ou donner un contre exemple\n",
    "\n",
    "a - L'ensemble des matrices symétriques ($A^T=A$) forme un sous espace vectoriel de $\\mathcal M_{n}(\\mathbb R)$\n",
    "\n",
    "b - L'ensemble des matrices anti-symétriques ($A^T=-A$) forme un sous espace vectoriel de $\\mathcal M_{n}(\\mathbb R)$\n",
    "\n",
    "c - L'ensemble des matrices non symétriques ($A^T \\neq A$) forme un sous espace vectoriel de $\\mathcal M_{n}(\\mathbb R)$"
   ]
  },
  {
   "cell_type": "code",
   "execution_count": null,
   "id": "691a6c39-dc43-430f-9bb3-938fc86e23fd",
   "metadata": {},
   "outputs": [],
   "source": []
  },
  {
   "cell_type": "code",
   "execution_count": null,
   "id": "50daf612-506d-40b9-8104-cfbe47a1346c",
   "metadata": {},
   "outputs": [],
   "source": []
  }
 ],
 "metadata": {
  "kernelspec": {
   "display_name": "SageMath 10.1",
   "language": "sage",
   "name": "sagemath-10.1"
  },
  "language_info": {
   "codemirror_mode": {
    "name": "ipython",
    "version": 3
   },
   "file_extension": ".py",
   "mimetype": "text/x-python",
   "name": "python",
   "nbconvert_exporter": "python",
   "pygments_lexer": "ipython3",
   "version": "3.11.1"
  }
 },
 "nbformat": 4,
 "nbformat_minor": 5
}
