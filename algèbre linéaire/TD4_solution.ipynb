{
 "cells": [
  {
   "cell_type": "markdown",
   "id": "4d504e78-e1af-407a-943b-57395663c847",
   "metadata": {},
   "source": [
    "# TD3 Méthode du pivot de Gauss\n",
    "\n",
    "Elimination de Gauss-Jordan (aussi appelée méthode du pivot de Gauss) via la multiplication par des matrices d'élimination\n",
    "\n",
    "- Multiplication matricielle\n",
    "- Résolution d'un système $A\\boldsymbol{x} = \\boldsymbol{b}$ par élimination\n",
    "- Inverse d'une matrice\n",
    "\n",
    "On note $\\mathcal M_{n,p}(\\mathbb K)$ l'ensemble des matrices à $n$ lignes et $p$ colonnes à coefficients dans $\\mathbb K$\n"
   ]
  },
  {
   "cell_type": "markdown",
   "id": "4bca2bab-cf1c-43a0-9bdf-92a4ae003505",
   "metadata": {},
   "source": [
    "## Exercice 1\n",
    "\n",
    "A l'aide de la méthode d'élimination sur les matrices, faire apparaître les pivots et $E_{21}$, pour faire l'algorithme de résolution de Gauss\n",
    "\n",
    "$$\n",
    "\\begin{equation}\n",
    "    \\begin{cases}\n",
    "      2x_1 + 3x_2 = 5\\\\\n",
    "      6x_1 + 15x_2 = 12\\\\\n",
    "    \\end{cases}       \n",
    "\\end{equation}\n",
    "$$"
   ]
  },
  {
   "cell_type": "code",
   "execution_count": 1,
   "id": "75b381dc-25f3-49d6-abd0-50b7c92de2bb",
   "metadata": {},
   "outputs": [],
   "source": [
    "b = vector([5, 12])\n",
    "A = matrix([[2, 3],\n",
    "            [6, 15]])"
   ]
  },
  {
   "cell_type": "code",
   "execution_count": 5,
   "id": "6dbcecf8-7dba-4b43-a98f-cd82fb6ec9f9",
   "metadata": {},
   "outputs": [],
   "source": [
    "E21 = matrix([[1, 0],\n",
    "              [-3, 1]])"
   ]
  },
  {
   "cell_type": "code",
   "execution_count": 6,
   "id": "1cef92c6-dc72-4d87-a5e8-62ff06472828",
   "metadata": {},
   "outputs": [
    {
     "data": {
      "text/plain": [
       "[2 3]\n",
       "[0 6]"
      ]
     },
     "execution_count": 6,
     "metadata": {},
     "output_type": "execute_result"
    }
   ],
   "source": [
    "U = E21 * A\n",
    "U"
   ]
  },
  {
   "cell_type": "code",
   "execution_count": 8,
   "id": "05874c8a-4fb7-4597-a1ff-396946d0d161",
   "metadata": {},
   "outputs": [
    {
     "data": {
      "text/plain": [
       "(5, -3)"
      ]
     },
     "execution_count": 8,
     "metadata": {},
     "output_type": "execute_result"
    }
   ],
   "source": [
    "c = E21 * b\n",
    "c"
   ]
  },
  {
   "cell_type": "markdown",
   "id": "6e8f11ef-4de7-4cf5-8392-1e2149cf755f",
   "metadata": {},
   "source": [
    "$$\n",
    "E_{21} * A * x = E_{21} * b\n",
    "$$\n",
    "$$\n",
    "U * x = c\n",
    "$$"
   ]
  },
  {
   "cell_type": "code",
   "execution_count": 10,
   "id": "13731d1b-7003-4654-89c5-84a0516ae475",
   "metadata": {},
   "outputs": [
    {
     "data": {
      "text/plain": [
       "(13/4, -1/2)"
      ]
     },
     "execution_count": 10,
     "metadata": {},
     "output_type": "execute_result"
    }
   ],
   "source": [
    "x = U.solve_right(c)\n",
    "x"
   ]
  },
  {
   "cell_type": "code",
   "execution_count": 11,
   "id": "79933a33-e93b-4d53-b930-7be5939125fa",
   "metadata": {},
   "outputs": [
    {
     "data": {
      "text/plain": [
       "(13/4, -1/2)"
      ]
     },
     "execution_count": 11,
     "metadata": {},
     "output_type": "execute_result"
    }
   ],
   "source": [
    "x = A.solve_right(b)\n",
    "x"
   ]
  },
  {
   "cell_type": "code",
   "execution_count": 12,
   "id": "a19267f5-d655-4283-b8d3-1e5760cf7ada",
   "metadata": {},
   "outputs": [
    {
     "data": {
      "text/plain": [
       "True"
      ]
     },
     "execution_count": 12,
     "metadata": {},
     "output_type": "execute_result"
    }
   ],
   "source": [
    "A * x == b"
   ]
  },
  {
   "cell_type": "code",
   "execution_count": 13,
   "id": "f27ee473-01f9-406b-91d4-af15a75271cd",
   "metadata": {},
   "outputs": [
    {
     "data": {
      "text/plain": [
       "(5, 12)"
      ]
     },
     "execution_count": 13,
     "metadata": {},
     "output_type": "execute_result"
    }
   ],
   "source": [
    "A * x"
   ]
  },
  {
   "cell_type": "markdown",
   "id": "49acc100-2f5c-44c4-8835-a07269a32a93",
   "metadata": {},
   "source": [
    "## Exercice 2\n",
    "A l'aide d'un exemple particulier de $\\mathcal M_{2,2}(\\mathbb R)$ (ensemble des matrices carré $(2,2)$ à coefficients réels), montrez que la multiplication n'est pas commutative.\n",
    "$$ A*B \\neq B*A$$\n",
    "\n",
    "Vérifier vos calculs grâce à SageMath"
   ]
  },
  {
   "cell_type": "code",
   "execution_count": 14,
   "id": "4781c1b4-fb03-4c40-8cf0-946d0be73fe5",
   "metadata": {},
   "outputs": [],
   "source": [
    "A = matrix([[0, 1],\n",
    "            [2, 3]])\n",
    "B = matrix([[1, -1],\n",
    "            [1, 0]])"
   ]
  },
  {
   "cell_type": "code",
   "execution_count": 18,
   "id": "358545ab-3e14-4f8f-b61c-ecff6188245e",
   "metadata": {},
   "outputs": [
    {
     "data": {
      "text/plain": [
       "[ 1  0]\n",
       "[ 5 -2]"
      ]
     },
     "execution_count": 18,
     "metadata": {},
     "output_type": "execute_result"
    }
   ],
   "source": [
    "A * B"
   ]
  },
  {
   "cell_type": "code",
   "execution_count": 19,
   "id": "45270170-2eef-43a6-8a7d-f593f7bc5e26",
   "metadata": {},
   "outputs": [
    {
     "data": {
      "text/plain": [
       "[-2 -2]\n",
       "[ 0  1]"
      ]
     },
     "execution_count": 19,
     "metadata": {},
     "output_type": "execute_result"
    }
   ],
   "source": [
    "B * A"
   ]
  },
  {
   "cell_type": "code",
   "execution_count": 20,
   "id": "0e945fc7-35d2-46f8-a6df-f8db2f392be9",
   "metadata": {},
   "outputs": [
    {
     "data": {
      "text/plain": [
       "False"
      ]
     },
     "execution_count": 20,
     "metadata": {},
     "output_type": "execute_result"
    }
   ],
   "source": [
    "A * B == B * A"
   ]
  },
  {
   "cell_type": "markdown",
   "id": "1d94df6a-8b46-47e9-a6eb-438a5f432120",
   "metadata": {},
   "source": [
    "## Exercice 3\n",
    "\n",
    "A l'aide de la méthode d'élimination résoudre le sytème d'équations suivant, en faisant apparaître les matrices d'élimination et de permutation.\n",
    "\n",
    "$$\n",
    "\\begin{equation}\n",
    "    \\begin{cases}\n",
    "      x_1 - x_2 - x_3 + x_4 = 0\\\\\n",
    "      2x_1 + 2x_3 = 8\\\\\n",
    "      -x_2 - 2x_3 = -8\\\\\n",
    "      3x_1 - 3x_2 - 2x_3 + 4x_4 = 7\\\\\n",
    "    \\end{cases}       \n",
    "\\end{equation}\n",
    "$$"
   ]
  },
  {
   "cell_type": "code",
   "execution_count": 22,
   "id": "ae1b1c0c-0307-4642-a73b-68d4aebd5a72",
   "metadata": {},
   "outputs": [],
   "source": [
    "A = matrix([[1, -1, -1, 1],\n",
    "            [2,  0,  2, 0],\n",
    "            [0, -1, -2, 0],\n",
    "            [3, -3, -2, 4],\n",
    "           ])\n",
    "b = vector([0, 8, -8, 7])"
   ]
  },
  {
   "cell_type": "code",
   "execution_count": 25,
   "id": "a93c4213-1dce-4a98-8600-3bdc3545bacc",
   "metadata": {},
   "outputs": [],
   "source": [
    "E21 = matrix([[ 1,  0,  0,  0],\n",
    "              [-2,  1,  0,  0],\n",
    "              [ 0,  0,  1,  0],\n",
    "              [ 0,  0,  0,  1],\n",
    "             ])"
   ]
  },
  {
   "cell_type": "code",
   "execution_count": 26,
   "id": "d82b62a2-cbd2-4f5a-98e1-be27bf515fdb",
   "metadata": {},
   "outputs": [
    {
     "data": {
      "text/plain": [
       "[ 1 -1 -1  1]\n",
       "[ 0  2  4 -2]\n",
       "[ 0 -1 -2  0]\n",
       "[ 3 -3 -2  4]"
      ]
     },
     "execution_count": 26,
     "metadata": {},
     "output_type": "execute_result"
    }
   ],
   "source": [
    "A21 = E21 * A\n",
    "A21"
   ]
  },
  {
   "cell_type": "code",
   "execution_count": 27,
   "id": "6f73097d-2741-4e70-a311-c8111af37380",
   "metadata": {},
   "outputs": [
    {
     "data": {
      "text/plain": [
       "[ 1 -1 -1  1]\n",
       "[ 0  2  4 -2]\n",
       "[ 0 -1 -2  0]\n",
       "[ 0  0  1  1]"
      ]
     },
     "execution_count": 27,
     "metadata": {},
     "output_type": "execute_result"
    }
   ],
   "source": [
    "E31 = matrix([[ 1,  0,  0,  0],\n",
    "              [ 0,  1,  0,  0],\n",
    "              [ 0,  0,  1,  0],\n",
    "              [-3,  0,  0,  1],\n",
    "             ])\n",
    "A31 = E31 * A21\n",
    "A31"
   ]
  },
  {
   "cell_type": "code",
   "execution_count": 27,
   "id": "d023de9c-ca65-4fab-874f-ac230111f486",
   "metadata": {},
   "outputs": [
    {
     "data": {
      "text/plain": [
       "[ 1  0  0  0]\n",
       "[-2  1  0  0]\n",
       "[ 0  0  1  0]\n",
       "[-3  0  0  1]"
      ]
     },
     "execution_count": 27,
     "metadata": {},
     "output_type": "execute_result"
    }
   ],
   "source": [
    "# Remarque:\n",
    "E31 * E21"
   ]
  },
  {
   "cell_type": "code",
   "execution_count": 28,
   "id": "e9e6b3c1-f9ac-4f97-8767-bcec1b13bcdb",
   "metadata": {},
   "outputs": [
    {
     "data": {
      "text/plain": [
       "[ 1 -1 -1  1]\n",
       "[ 0  2  4 -2]\n",
       "[ 0  0  0 -1]\n",
       "[ 0  0  1  1]"
      ]
     },
     "execution_count": 28,
     "metadata": {},
     "output_type": "execute_result"
    }
   ],
   "source": [
    "E32 = matrix([[ 1,  0,  0,  0],\n",
    "              [ 0,  1,  0,  0],\n",
    "              [ 0,1/2,  1,  0],\n",
    "              [ 0,  0,  0,  1],\n",
    "             ])\n",
    "A32 = E32 * A31\n",
    "A32"
   ]
  },
  {
   "cell_type": "code",
   "execution_count": 29,
   "id": "e3058bba-dc4b-4706-98b8-1280b24e8f30",
   "metadata": {},
   "outputs": [],
   "source": [
    "P34 = matrix([[ 1,  0,  0,  0],\n",
    "              [ 0,  1,  0,  0],\n",
    "              [ 0,  0,  0,  1],\n",
    "              [ 0,  0,  1,  0],\n",
    "             ])\n",
    "U = P34 * A32"
   ]
  },
  {
   "cell_type": "code",
   "execution_count": 32,
   "id": "2b405279-6014-4b12-bb98-d5cf1cf4242b",
   "metadata": {},
   "outputs": [],
   "source": [
    "b_ = P34 * E32 * E31 * E21 * b"
   ]
  },
  {
   "cell_type": "code",
   "execution_count": 33,
   "id": "9d2a77ef-afc6-40fa-baa6-f38bc3110999",
   "metadata": {},
   "outputs": [
    {
     "data": {
      "text/plain": [
       "[ 1 -1 -1  1]\n",
       "[ 0  2  4 -2]\n",
       "[ 0  0  1  1]\n",
       "[ 0  0  0 -1]"
      ]
     },
     "execution_count": 33,
     "metadata": {},
     "output_type": "execute_result"
    }
   ],
   "source": [
    "U"
   ]
  },
  {
   "cell_type": "code",
   "execution_count": 34,
   "id": "2fd15a21-db53-41b9-8da3-feea7af8d246",
   "metadata": {},
   "outputs": [
    {
     "data": {
      "text/plain": [
       "(0, 8, 7, -4)"
      ]
     },
     "execution_count": 34,
     "metadata": {},
     "output_type": "execute_result"
    }
   ],
   "source": [
    "b_"
   ]
  },
  {
   "cell_type": "markdown",
   "id": "cd992b26-dd0e-4e65-acff-a0322d93f670",
   "metadata": {},
   "source": [
    "$$\n",
    "\\begin{bmatrix}\n",
    "1 & -1 & -1 &  1\\\\\n",
    "0 &  2 &  4 & -2\\\\\n",
    "0 &  0 &  1 &  1\\\\\n",
    "0 &  0 &  0 & -1\\\\\n",
    "\\end{bmatrix}\n",
    ".X = \n",
    "\\begin{bmatrix}\n",
    "0\\\\\n",
    "8\\\\\n",
    "7\\\\\n",
    "-4\\\\\n",
    "\\end{bmatrix}\n",
    "$$"
   ]
  },
  {
   "cell_type": "code",
   "execution_count": 35,
   "id": "70807a44-f385-4956-bcb1-d0cbac0086af",
   "metadata": {},
   "outputs": [
    {
     "data": {
      "text/plain": [
       "(1, 2, 3, 4)"
      ]
     },
     "execution_count": 35,
     "metadata": {},
     "output_type": "execute_result"
    }
   ],
   "source": [
    "x = U.solve_right(b_)\n",
    "x"
   ]
  },
  {
   "cell_type": "code",
   "execution_count": 36,
   "id": "9e8fb573-a62b-423a-867c-5c163e2a0c97",
   "metadata": {},
   "outputs": [
    {
     "data": {
      "text/plain": [
       "True"
      ]
     },
     "execution_count": 36,
     "metadata": {},
     "output_type": "execute_result"
    }
   ],
   "source": [
    "A * x == b"
   ]
  },
  {
   "cell_type": "code",
   "execution_count": 37,
   "id": "12bea3fc-11a4-489f-9de3-9561a2d50b53",
   "metadata": {},
   "outputs": [
    {
     "data": {
      "text/plain": [
       "(1, 2, 3, 4)"
      ]
     },
     "execution_count": 37,
     "metadata": {},
     "output_type": "execute_result"
    }
   ],
   "source": [
    "# bien sûr Sage fait tout ça pour nous!\n",
    "A.solve_right(b)"
   ]
  },
  {
   "cell_type": "markdown",
   "id": "c6663612-f412-4016-a192-4550f4162fb8",
   "metadata": {},
   "source": [
    "## Exercice 4\n",
    "\n",
    "Trouver la matrice E qui permet de réduire le triangle de Pascal à une matrice contenant un triangle de Pascal plus petit.\n",
    "\n",
    "Indice: [Construction du triange de Pascal](https://www.youtube.com/watch?v=N1Pw-QYPTSo)\n",
    "\n",
    "$$\n",
    "\\begin{bmatrix}\n",
    "1 & 0 & 0 & 0\\\\\n",
    "1 & 1 & 0 & 0\\\\\n",
    "1 & 2 & 1 & 0\\\\\n",
    "1 & 3 & 3 & 1\\\\\n",
    "\\end{bmatrix}\n",
    "=P_1\n",
    "$$\n",
    "\n",
    "$$\n",
    "E.P_1=\n",
    "\\begin{bmatrix}\n",
    "1 & 0 & 0 & 0\\\\\n",
    "0 & 1 & 0 & 0\\\\\n",
    "0 & 1 & 1 & 0\\\\\n",
    "0 & 1 & 2 & 1\\\\\n",
    "\\end{bmatrix}=P_2\n",
    "$$\n",
    "\n",
    "Quelle matrice $M$, trouvée en multipliant plusieurs matrice de type E entre elles, permet de réduire $P$ à $I$"
   ]
  },
  {
   "cell_type": "code",
   "execution_count": 38,
   "id": "6ae683f5-7def-43e4-908d-a2ca17b1a4ea",
   "metadata": {},
   "outputs": [
    {
     "data": {
      "text/plain": [
       "[1 0 0 0]\n",
       "[1 1 0 0]\n",
       "[1 2 1 0]\n",
       "[1 3 3 1]"
      ]
     },
     "execution_count": 38,
     "metadata": {},
     "output_type": "execute_result"
    }
   ],
   "source": [
    "P1 = matrix(4, 4, lambda i, j: binomial(i,j))\n",
    "P1"
   ]
  },
  {
   "cell_type": "markdown",
   "id": "6f9b7ba5-d85a-4e15-96d5-c34684a12b38",
   "metadata": {},
   "source": [
    "Pour pouvoir passer à la matrice P2, il faut ôter à chaque ligne la précédente"
   ]
  },
  {
   "cell_type": "code",
   "execution_count": 39,
   "id": "63e5c181-5b23-4d67-b1dc-e55d0815cde7",
   "metadata": {},
   "outputs": [
    {
     "data": {
      "text/plain": [
       "[1 0 0 0]\n",
       "[0 1 0 0]\n",
       "[0 1 1 0]\n",
       "[0 1 2 1]"
      ]
     },
     "execution_count": 39,
     "metadata": {},
     "output_type": "execute_result"
    }
   ],
   "source": [
    "E1 = matrix([[ 1,  0,  0,  0],\n",
    "             [-1,  1,  0,  0],\n",
    "             [ 0, -1,  1,  0],\n",
    "             [ 0,  0, -1,  1],\n",
    "             ])\n",
    "P2 = E1 * P1\n",
    "P2"
   ]
  },
  {
   "cell_type": "code",
   "execution_count": 41,
   "id": "c2fa7fc8-8293-486c-b795-79b90489ea06",
   "metadata": {},
   "outputs": [
    {
     "data": {
      "text/plain": [
       "[1 0 0 0]\n",
       "[0 1 0 0]\n",
       "[0 0 1 0]\n",
       "[0 0 1 1]"
      ]
     },
     "execution_count": 41,
     "metadata": {},
     "output_type": "execute_result"
    }
   ],
   "source": [
    "E2 = matrix([[ 1,  0,  0,  0],\n",
    "             [ 0,  1,  0,  0],\n",
    "             [ 0, -1,  1,  0],\n",
    "             [ 0,  0, -1,  1],\n",
    "             ])\n",
    "P3 = E2 * P2\n",
    "P3"
   ]
  },
  {
   "cell_type": "code",
   "execution_count": 42,
   "id": "c4745bc2-5c98-4325-9305-a82f31ce558c",
   "metadata": {},
   "outputs": [
    {
     "data": {
      "text/plain": [
       "[1 0 0 0]\n",
       "[0 1 0 0]\n",
       "[0 0 1 0]\n",
       "[0 0 0 1]"
      ]
     },
     "execution_count": 42,
     "metadata": {},
     "output_type": "execute_result"
    }
   ],
   "source": [
    "E3 = matrix([[ 1,  0,  0,  0],\n",
    "             [ 0,  1,  0,  0],\n",
    "             [ 0,  0,  1,  0],\n",
    "             [ 0,  0, -1,  1],\n",
    "             ])\n",
    "P4 = E3 * P3\n",
    "P4"
   ]
  },
  {
   "cell_type": "code",
   "execution_count": 43,
   "id": "41b6055b-b224-4d2a-b84c-9b99c02c4107",
   "metadata": {},
   "outputs": [
    {
     "data": {
      "text/plain": [
       "True"
      ]
     },
     "execution_count": 43,
     "metadata": {},
     "output_type": "execute_result"
    }
   ],
   "source": [
    "I = matrix.identity(4)\n",
    "E3 * E2 * E1 * P1 == I"
   ]
  },
  {
   "cell_type": "markdown",
   "id": "21bd6b1f-bb2c-4431-b865-5d4a029f1802",
   "metadata": {},
   "source": [
    "$E_3 * E_2 * E_1$ est l'inverse de $P_1$"
   ]
  },
  {
   "cell_type": "code",
   "execution_count": null,
   "id": "d486439a-cd2e-47c8-8db9-d93d5bb81f65",
   "metadata": {},
   "outputs": [],
   "source": []
  }
 ],
 "metadata": {
  "kernelspec": {
   "display_name": "SageMath 10.1",
   "language": "sage",
   "name": "sagemath-10.1"
  },
  "language_info": {
   "codemirror_mode": {
    "name": "ipython",
    "version": 3
   },
   "file_extension": ".py",
   "mimetype": "text/x-python",
   "name": "python",
   "nbconvert_exporter": "python",
   "pygments_lexer": "ipython3",
   "version": "3.11.1"
  }
 },
 "nbformat": 4,
 "nbformat_minor": 5
}
