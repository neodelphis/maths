{
 "cells": [
  {
   "cell_type": "markdown",
   "id": "d69bf36c-8066-4b08-815a-57419d8a992f",
   "metadata": {},
   "source": [
    "# Statistiques\n",
    "\n",
    "[Site dont sont issus les exercices](https://www.math.univ-toulouse.fr/~msablik/)"
   ]
  },
  {
   "cell_type": "markdown",
   "id": "b8e2521d-6315-45e4-8bd3-668219f72b49",
   "metadata": {},
   "source": [
    "> Ajouter un exercice simple de calcul des différentes valeurs statistiques sur des séries courtes"
   ]
  },
  {
   "cell_type": "markdown",
   "id": "7a3f8d13-2ff6-45b4-a2e0-5c501dd8563d",
   "metadata": {},
   "source": [
    "## Exercice 1\n",
    "\n",
    "Dans une salle, 9 personnes sont assises, leur moyenne d’âge est de 25 ans. Dans une autre salle, 11 personnes sont réunies, leur moyenne d’âge est de 45 ans. On rassemble les deux groupes de personnes. Calculer la moyenne d’âge du groupe ainsi constitué.\n"
   ]
  },
  {
   "cell_type": "markdown",
   "id": "3f26bfa1-7fa1-420c-9dae-93a7bc552591",
   "metadata": {},
   "source": [
    "## Exercice 2\n",
    "\n",
    "Dans un groupe, 25% des familles ont un enfant, 40% ont deux enfants, 20% ont trois enfants et 15% ont quatre enfants. Quel est le nombre moyens d’enfants dans ce groupe ?"
   ]
  },
  {
   "cell_type": "markdown",
   "id": "d648c68a-beb6-423a-b13e-6975665187c4",
   "metadata": {},
   "source": [
    "## Exercice 3\n",
    "\n",
    "Dans une entreprise de 360 employés, les cadres gagnent en moyenne 2 000€ et les ouvriers 1200€. L’ensemble des employés gagnent en moyenne 1400€.\n",
    "1. Quel est le nombre de cadres ?\n",
    "\n",
    "On supposera dans la suite que le plus petit salaire d'un cadre est supérieur d'au moins 10% au plus petit salaire d'un ouvrier, et que le plus haut salaire d'un ouvrier est inférieur de 10% au plus haut salaire d'un cadre.\n",
    "\n",
    "3. Si on augmente le salaire tous les ouvriers de 5%,\n",
    "    - a) Quelle est la nouvelle moyenne des salaires des employés de l’entreprise ?\n",
    "    - b) L’étendue des salaires augmente-t-elle ?\n",
    "    - c) Le salaire médian augmente-t-il ?\n",
    "4. Mêmes questions si au lieu d’augmenter les ouvriers, on augmente le salaire de tous les cadres de 5%."
   ]
  },
  {
   "cell_type": "code",
   "execution_count": 1,
   "id": "eefde2e7-0b44-4f19-b980-15249788a4f3",
   "metadata": {},
   "outputs": [
    {
     "data": {
      "text/plain": [
       "1445.0"
      ]
     },
     "execution_count": 1,
     "metadata": {},
     "output_type": "execute_result"
    }
   ],
   "source": [
    "(90*2000+270*1200*1.05)/360"
   ]
  },
  {
   "cell_type": "code",
   "execution_count": 2,
   "id": "e7557b3b-52fc-4a5e-9886-c4e95177a4d4",
   "metadata": {},
   "outputs": [
    {
     "data": {
      "text/plain": [
       "1425.0"
      ]
     },
     "execution_count": 2,
     "metadata": {},
     "output_type": "execute_result"
    }
   ],
   "source": [
    "(90*2000*1.05+270*1200)/360"
   ]
  },
  {
   "cell_type": "markdown",
   "id": "76c3ccb2-7a4b-4dcc-8385-cb3cc891cbd1",
   "metadata": {},
   "source": []
  },
  {
   "cell_type": "markdown",
   "id": "1ec7d0dd-8e37-498f-96cc-9e8d6206795c",
   "metadata": {},
   "source": [
    "## Exercice 4\n",
    "\n",
    "> En statistique, les variables sont classées en deux grands groupes: les **variables quantitatives** sont caractérisées par des valeurs numériques tel que poids ou la taille, les **variables qualitatives** dont les valeurs sont des qualités non numériques (le sexe, la couleur des yeux) ou des valeurs numériques réparties en classes.\n",
    "\n",
    "> En statistique, la **modalité** est l'une des différentes variantes que peut présenter un élément d'une population relativement à une variable qualitative. Par exemple, une pièce est bonne ou défectueuse (2 modalités) et le mois de naissance est janvier, février, etc. (12 modalités)\n",
    "\n",
    "> Le **mode** est la valeur de la variable possédant le plus grand effectif ou la plus grande fréquence. Il est, dans ce cas, simplement ou directement observable. Dans un tableau statistique, c'est le $x_i$ où le $n_i$ est le plus élevé (ou la $f_i$).\n",
    "\n",
    "\n",
    "\n",
    "A la question, \"Les statistiques permettent de mentir avec assurance : Quelle est votre opinion ?\", 80 personnes interrogées ont ainsi répondu :\n",
    "\n",
    "|  |  |\n",
    "|---|---|\n",
    "| Pas du tout d’accord | 10 |\n",
    "| Plutôt pas d’accord | 15 |\n",
    "| Indifférente | 12 |\n",
    "| Plutôt en accord | 18 |\n",
    "| Tout à fait d’accord | 25 |\n",
    "\n",
    "Soit X la variable associée à cette enquête.\n",
    "1. Quel est le type de X? Quelles sont ses modalités? Quel est son mode?\n",
    "2. Etablir la distribution en fréquence de cette variable et représenter la par un diagramme rectangulaire, un diagramme en bâtons ou un diagramme semi-circulaire.\n",
    "3. Quelle est la proportion de sujets n’ayant pas d’opinion extrêmement tranchée sur la question ? Ayant une opinion extrêmement tranchée sur la question?\n",
    "4. Quelle est la proportion de sujets qui répondent négativement à la question? Qui répondent positivement à la question?"
   ]
  },
  {
   "cell_type": "code",
   "execution_count": 3,
   "id": "971f42b0-009e-49d2-b3da-3b0b5c0d09e1",
   "metadata": {
    "jupyter": {
     "source_hidden": true
    }
   },
   "outputs": [],
   "source": [
    "x = {'Pas du tout d’accord': 10,\n",
    "     'Plutôt pas d’accord': 15,\n",
    "     'Indifférente': 12,\n",
    "     'Plutôt en accord': 18,\n",
    "     'Tout à fait d’accord': 25}\n",
    "\n",
    "# Version plus courte des labels pour l'affichage\n",
    "x = {'Pas du tout': 10,\n",
    "     'Plutôt pas': 15,\n",
    "     'Indifférente': 12,\n",
    "     'En accord': 18,\n",
    "     'Tout à fait': 25}\n",
    "\n",
    "total = sum(x.values())"
   ]
  },
  {
   "cell_type": "code",
   "execution_count": 4,
   "id": "a0af780b-bf2b-48fd-a367-f813ae8dd109",
   "metadata": {
    "jupyter": {
     "source_hidden": true
    }
   },
   "outputs": [],
   "source": [
    "import matplotlib.pyplot as plt\n",
    "import numpy as np\n",
    "from matplotlib.patches import ConnectionPatch"
   ]
  },
  {
   "cell_type": "code",
   "execution_count": 6,
   "id": "94deb9f2-8927-4be3-8c9a-67ff5fc74ea4",
   "metadata": {
    "jupyter": {
     "source_hidden": true
    }
   },
   "outputs": [
    {
     "data": {
      "image/png": "[encoded data removed]",
      "text/plain": [
       "<Figure size 640x480 with 1 Axes>"
      ]
     },
     "metadata": {},
     "output_type": "display_data"
    }
   ],
   "source": [
    "fig, ax = plt.subplots()\n",
    "\n",
    "# Categorical palettes from Vega:\n",
    "# https://github.com/vega/vega/wiki/Scales\n",
    "# (divided by 255)\n",
    "#\n",
    "#    (0.12156862745098039, 0.4666666666666667,  0.7058823529411765  ),  # 1f77b4\n",
    "colors_with_alpha = [[0.12156862745098039, 0.4666666666666667,  0.7058823529411765, 0.9-j*0.2] for j in range(len(x))]\n",
    "\n",
    "ax.bar(list(x.keys()), list(x.values()), color=colors_with_alpha)\n",
    "\n",
    "ax.set_ylabel('Effectif')\n",
    "ax.set_title('Opinion sur les statistiques')\n",
    "\n",
    "plt.show()"
   ]
  },
  {
   "cell_type": "code",
   "execution_count": 7,
   "id": "e5f13589-4f70-4503-b357-b93d86df73e3",
   "metadata": {
    "jupyter": {
     "source_hidden": true
    }
   },
   "outputs": [
    {
     "data": {
      "image/png": "[encoded data removed]",
      "text/plain": [
       "<Figure size 640x480 with 1 Axes>"
      ]
     },
     "metadata": {},
     "output_type": "display_data"
    }
   ],
   "source": [
    "f = { k:v/total for k,v in x.items()}\n",
    "fig, ax = plt.subplots()\n",
    "ax.bar(list(f.keys()), list(f.values()), color=colors_with_alpha )\n",
    "ax.set_ylabel('Fréquence')\n",
    "ax.set_title('Opinion sur les statistiques')\n",
    "plt.show()"
   ]
  },
  {
   "cell_type": "markdown",
   "id": "8726fe53-2ee9-4fd6-9098-56952e53603b",
   "metadata": {},
   "source": [
    "[Référence matplotlib pour générer un diagramme rectangulaire](https://matplotlib.org/stable/gallery/pie_and_polar_charts/bar_of_pie.html#sphx-glr-gallery-pie-and-polar-charts-bar-of-pie-py)"
   ]
  },
  {
   "cell_type": "code",
   "execution_count": 8,
   "id": "47098df1-bcb3-4a29-ac4b-b8ef0c0ba6e7",
   "metadata": {
    "jupyter": {
     "source_hidden": true
    }
   },
   "outputs": [
    {
     "data": {
      "image/png": "[encoded data removed]",
      "text/plain": [
       "<Figure size 640x480 with 1 Axes>"
      ]
     },
     "metadata": {},
     "output_type": "display_data"
    }
   ],
   "source": [
    "# make figure and assign axis objects\n",
    "fig, ax = plt.subplots()\n",
    "\n",
    "\n",
    "# bar chart parameters\n",
    "age_ratios = list(f.values())\n",
    "age_labels = list(f.keys())\n",
    "bottom = 1\n",
    "width = .2\n",
    "\n",
    "# Adding from the top matches the legend.\n",
    "for j, (height, label) in enumerate(reversed([*zip(age_ratios, age_labels)])):\n",
    "    bottom -= height\n",
    "    bc = ax.bar(0, height, width, bottom=bottom, color='C0', label=label,\n",
    "                 alpha=0.1 + 0.2 * j)\n",
    "    ax.bar_label(bc, labels=[f\"{height:.0%}\"], label_type='center')\n",
    "\n",
    "ax.set_title('Opinion sur les statistiques')\n",
    "ax.legend()\n",
    "ax.axis('off')\n",
    "ax.set_xlim(- 2.5 * width, 2.5 * width)\n",
    "\n",
    "plt.show()"
   ]
  },
  {
   "cell_type": "code",
   "execution_count": 9,
   "id": "4e9880ee-2919-4fd4-9b7e-10a91789b17a",
   "metadata": {
    "jupyter": {
     "source_hidden": true
    }
   },
   "outputs": [
    {
     "data": {
      "image/png": "[encoded data removed]",
      "text/plain": [
       "<Figure size 640x480 with 1 Axes>"
      ]
     },
     "metadata": {},
     "output_type": "display_data"
    }
   ],
   "source": [
    "fig, ax = plt.subplots()\n",
    "ax.pie(list(f.values()), labels=list(f.keys()), colors=colors_with_alpha, autopct='%1.1f%%')\n",
    "plt.show()"
   ]
  },
  {
   "cell_type": "markdown",
   "id": "cadea1bf-47d5-4c94-a224-0cdfd909bdea",
   "metadata": {},
   "source": [
    "3. Quelle est la proportion de sujets n’ayant pas d’opinion extrêmement tranchée sur la question ? Ayant une opinion extrêmement tranchée sur la question?\n",
    "```\n",
    "Plutôt d’accord: 15\n",
    "Indifférente: 12\n",
    "Plutôt en accord: 18\n",
    "```"
   ]
  },
  {
   "cell_type": "code",
   "execution_count": 10,
   "id": "daac515d-2f66-4c31-8040-0445317d9913",
   "metadata": {},
   "outputs": [
    {
     "name": "stdout",
     "output_type": "stream",
     "text": [
      "56.25%\n"
     ]
    }
   ],
   "source": [
    "print(f'{(15+12+18)/total*100}%')"
   ]
  },
  {
   "cell_type": "markdown",
   "id": "d91e1cb7-8fd7-4071-ba59-4d191424dc40",
   "metadata": {},
   "source": [
    "4. Quelle est la proportion de sujets qui répondent négativement à la question? Qui répondent positivement à la question?\n",
    "\n",
    "```\n",
    "Pas du tout d’accord: 10\n",
    "Tout à fait d’accord: 25\n",
    "```"
   ]
  },
  {
   "cell_type": "code",
   "execution_count": 11,
   "id": "21c12562-806a-405c-b4b8-b34a7276eb84",
   "metadata": {},
   "outputs": [
    {
     "name": "stdout",
     "output_type": "stream",
     "text": [
      "43.75%\n"
     ]
    }
   ],
   "source": [
    "print(f'{(10+25)/total*100}%')"
   ]
  },
  {
   "cell_type": "markdown",
   "id": "483d568a-b91e-468a-9065-419bc3db1c9f",
   "metadata": {},
   "source": [
    "## Exercice 5\n",
    "\n",
    "Voici les 72 résultats d’un examen d’anglais :\n",
    "12 8 15 11 4 7 13 2 9 10 17 13 14 3 6 6 8 12 9 16 12 9 4 15 5 3 13 2 18 5 6 11 10 14 6 8 17 10 14 11 16 10 8 10 9 11 10 14 7 13 19 14 10 15 12 13 6 12 11 9 13 16 15 13 5 10 7 16 10 8 16 11\n",
    "\n",
    "\n",
    "Variable quantitative continue :\n",
    "1. Remplir le tableau suivant :\n",
    "\n",
    "| Intervalle de notes | 0 | 1 | 2 | 3 | 4 | 5 | 6 | 7 | 8 | 9 | 10 | 11 | 12 | 13 | 14 | 15 | 16 | 17 | 18 | 19 | 20 |\n",
    "|---|---|---|---|---|---|---|---|---|---|---|---|---|---|---|---|---|---|---|---|---|---|\n",
    "| Effectif |  |  |  |  |  |  |  |  |  |  |  |  |  |  |  |  |  |  |  |  |  |\n",
    "\n",
    "2. Déterminer le mode, la moyenne et l’écart type de la série statistique suivant ce mode de stockage des données.\n",
    "\n",
    "3. Remplir le tableau suivant :\n",
    "\n",
    "| Intervalle de notes | [0 ; 4[ | [4 ; 8[ | [8 ; 12[ | [12 ; 16[ | [16 ; 20] |\n",
    "|---|---|---|---|---|---|\n",
    "| Effectif |  |  |  |  |  |\n",
    "\n",
    "4. Déterminer le mode, la moyenne et l’écart type de la série statistique suivant ce mode de stockage des données.\n"
   ]
  },
  {
   "cell_type": "code",
   "execution_count": 12,
   "id": "40d70120-ca6a-4a4e-883c-ba63cfdf54e3",
   "metadata": {},
   "outputs": [],
   "source": [
    "from collections import Counter"
   ]
  },
  {
   "cell_type": "code",
   "execution_count": 13,
   "id": "7b514a63-efc1-4f72-b211-a2ea67f6882f",
   "metadata": {},
   "outputs": [
    {
     "name": "stdout",
     "output_type": "stream",
     "text": [
      "0 : 0\n",
      "1 : 0\n",
      "2 : 2\n",
      "3 : 2\n",
      "4 : 2\n",
      "5 : 3\n",
      "6 : 5\n",
      "7 : 3\n",
      "8 : 5\n",
      "9 : 5\n",
      "10 : 9\n",
      "11 : 6\n",
      "12 : 5\n",
      "13 : 7\n",
      "14 : 5\n",
      "15 : 4\n",
      "16 : 5\n",
      "17 : 2\n",
      "18 : 1\n",
      "19 : 1\n",
      "20 : 0\n"
     ]
    }
   ],
   "source": [
    "s = '12 8 15 11 4 7 13 2 9 10 17 13 14 3 6 6 8 12 9 16 \\\n",
    "12 9 4 15 5 3 13 2 18 5 6 11 10 14 6 8 17 10 14 11 16 \\\n",
    "10 8 10 9 11 10 14 7 13 19 14 10 15 12 13 6 12 11 9 13 \\\n",
    "16 15 13 5 10 7 16 10 8 16 11'\n",
    "s = [int(note) for note in s.split(' ')]\n",
    "c = Counter(s)\n",
    "for i in range(21):\n",
    "    print(f'{i} : {c[i]}')"
   ]
  },
  {
   "cell_type": "markdown",
   "id": "056ef31a-b2c8-4621-bd9d-23c508341d35",
   "metadata": {},
   "source": [
    "mode = la note 10"
   ]
  },
  {
   "cell_type": "code",
   "execution_count": 14,
   "id": "b0b3a116-bd9f-4793-ba49-8675c3b07364",
   "metadata": {},
   "outputs": [
    {
     "data": {
      "text/plain": [
       "10.51388888888889"
      ]
     },
     "execution_count": 14,
     "metadata": {},
     "output_type": "execute_result"
    }
   ],
   "source": [
    "# Moyenne\n",
    "np.mean(np.array(s))\n"
   ]
  },
  {
   "cell_type": "code",
   "execution_count": 15,
   "id": "0e6da16c-0f00-413a-8a6f-11bb4485e835",
   "metadata": {},
   "outputs": [
    {
     "data": {
      "text/plain": [
       "4.044863188029546"
      ]
     },
     "execution_count": 15,
     "metadata": {},
     "output_type": "execute_result"
    }
   ],
   "source": [
    "# Ecart type\n",
    "np.std(np.array(s))"
   ]
  },
  {
   "cell_type": "markdown",
   "id": "f5441e2a-2d42-42de-93d1-9374d179c52a",
   "metadata": {},
   "source": [
    "Variable quantitative continue :\n",
    "1. Remplir le tableau suivant :\n",
    "\n",
    "      \n",
    "\n",
    "\n",
    "| Intervalle de notes | [0 ; 4[ | [4 ; 8[ | [8 ; 12[ | [12 ; 16[ | [16 ; 20] |\n",
    "|---|---|---|---|---|---|\n",
    "| Effectif |  |  |  |  |  |"
   ]
  },
  {
   "cell_type": "code",
   "execution_count": 16,
   "id": "a07649fc-ff2c-4e16-a035-95a73cf03da9",
   "metadata": {},
   "outputs": [
    {
     "data": {
      "text/plain": [
       "4"
      ]
     },
     "execution_count": 16,
     "metadata": {},
     "output_type": "execute_result"
    }
   ],
   "source": [
    "sum([c[i] for i in range(4)])"
   ]
  },
  {
   "cell_type": "code",
   "execution_count": 17,
   "id": "207218ca-40ce-47a3-9c72-65bc1c3c68ea",
   "metadata": {},
   "outputs": [
    {
     "data": {
      "text/plain": [
       "13"
      ]
     },
     "execution_count": 17,
     "metadata": {},
     "output_type": "execute_result"
    }
   ],
   "source": [
    "sum([c[i] for i in range(4, 8)])"
   ]
  },
  {
   "cell_type": "code",
   "execution_count": 18,
   "id": "62928d71-aa8f-48c0-848c-e4e98e720f34",
   "metadata": {},
   "outputs": [
    {
     "data": {
      "text/plain": [
       "25"
      ]
     },
     "execution_count": 18,
     "metadata": {},
     "output_type": "execute_result"
    }
   ],
   "source": [
    "sum([c[i] for i in range(8, 12)])"
   ]
  },
  {
   "cell_type": "code",
   "execution_count": 19,
   "id": "6b3f92e0-92f7-4ce8-8e22-14fb06236cc3",
   "metadata": {},
   "outputs": [
    {
     "data": {
      "text/plain": [
       "21"
      ]
     },
     "execution_count": 19,
     "metadata": {},
     "output_type": "execute_result"
    }
   ],
   "source": [
    "sum([c[i] for i in range(12, 16)])"
   ]
  },
  {
   "cell_type": "code",
   "execution_count": 20,
   "id": "018e1534-0323-43dd-847c-52ddf445e929",
   "metadata": {},
   "outputs": [
    {
     "data": {
      "text/plain": [
       "9"
      ]
     },
     "execution_count": 20,
     "metadata": {},
     "output_type": "execute_result"
    }
   ],
   "source": [
    "sum([c[i] for i in range(16, 21)])"
   ]
  },
  {
   "cell_type": "markdown",
   "id": "c837ff2a-42d7-473f-a66c-540785c4073a",
   "metadata": {},
   "source": [
    "\n",
    "| Intervalle de notes | [0 ; 4[ | [4 ; 8[ | [8 ; 12[ | [12 ; 16[ | [16 ; 20] |\n",
    "|---|---|---|---|---|---|\n",
    "| Effectif | 4 | 13 | 25 | 21 | 9 |"
   ]
  },
  {
   "cell_type": "markdown",
   "id": "81d20c07-d9ec-447f-9c2d-0955b6644ce0",
   "metadata": {},
   "source": [
    ">Si on dispose d’un tableau d’effectifs (ou de fréquences) de classes :\n",
    ">1. déterminer d’abord les centres des classes,\n",
    ">2. se ramener au cas ii. ou iii. en remplaçant les valeurs par les centres des classes"
   ]
  },
  {
   "cell_type": "code",
   "execution_count": 21,
   "id": "83754b99-c69f-4d10-a799-d160b56ac025",
   "metadata": {},
   "outputs": [
    {
     "data": {
      "text/plain": [
       "72"
      ]
     },
     "execution_count": 21,
     "metadata": {},
     "output_type": "execute_result"
    }
   ],
   "source": [
    "d = {2:4, 6:13, 10:25, 14:21, 18:9}\n",
    "sum(d.values())"
   ]
  },
  {
   "cell_type": "code",
   "execution_count": 22,
   "id": "7c6d5cc7-b114-44bf-8d83-885ae98f83ab",
   "metadata": {},
   "outputs": [
    {
     "data": {
      "text/plain": [
       "11.0"
      ]
     },
     "execution_count": 22,
     "metadata": {},
     "output_type": "execute_result"
    }
   ],
   "source": [
    "moyenne = (2*4 + 6*13 + 10*25 + 14*21 + 18*9) / 72\n",
    "moyenne"
   ]
  },
  {
   "cell_type": "code",
   "execution_count": 23,
   "id": "ea4dd473-64df-42c8-8d2e-188466a6ee06",
   "metadata": {},
   "outputs": [
    {
     "data": {
      "text/plain": [
       "4.255715111601235"
      ]
     },
     "execution_count": 23,
     "metadata": {},
     "output_type": "execute_result"
    }
   ],
   "source": [
    "# Ecart type\n",
    "import math\n",
    "math.sqrt(((2-moyenne)**2*4 + (6-moyenne)**2*13 \n",
    "          + (10-moyenne)**2*25 + (14-moyenne)**2*21 + (18-moyenne)**2*9) / 72)"
   ]
  },
  {
   "cell_type": "markdown",
   "id": "b01778eb-badc-4765-9df5-ff890e1a0907",
   "metadata": {},
   "source": [
    "## Exercice 6 \n",
    "\n",
    "Une population de ménages a été répartie en fonction du nombre de parts familiales permettant le calcul de l’impôt sur le revenu.\n",
    "\n",
    "|  |  |  |  |  |  |  |  |  |\n",
    "|---|---|---|---|---|---|---|---|---|\n",
    "| nombre de parts | 1 | 1,5 | 2 | 2,5 | 3 | 3,5 | 4 | 4,5 |\n",
    "| nombre de ménages | 48 | 58 | 136 | 184 | 210 | 122 | 62 | 12 |\n",
    "\n",
    "\n",
    "1. Quel est le caractère étudié et quelles sont les modalités ?\n",
    "2. Déterminer l’étendue et le mode de cette série statistique.\n",
    "3. Donner une représentation graphique de cette population.\n",
    "4. Représenter la courbe des fréquences cumulées croissantes.\n",
    "5. Calculer la médiane, la moyenne et l’écart-type de cette variable.\n",
    "\n"
   ]
  },
  {
   "cell_type": "markdown",
   "id": "143a2e9f-a08b-4f77-aebc-9391ca04cd10",
   "metadata": {},
   "source": [
    "1. Quel est le caractère étudié et quelles sont les modalités ?\n",
    "\n",
    "Le caractère étudié est une variable quantitative discrète. Ses modalités sont les nombres de parts indiqués.\n",
    "\n",
    "2. Déterminer l’étendue et le mode de cette série statistique.\n",
    "\n",
    "étendue: $4,5-1=3,5$\n",
    "\n",
    "mode: $3$ avec un effectif de 210\n",
    "\n",
    "3. Donner une représentation graphique de cette population."
   ]
  },
  {
   "cell_type": "code",
   "execution_count": 24,
   "id": "5ea30efc-5d46-43a4-b9b2-91819307245e",
   "metadata": {
    "jupyter": {
     "source_hidden": true
    }
   },
   "outputs": [
    {
     "data": {
      "image/png": "[encoded data removed]",
      "text/plain": [
       "<Figure size 640x480 with 1 Axes>"
      ]
     },
     "metadata": {},
     "output_type": "display_data"
    }
   ],
   "source": [
    "parts = ['1', '1,5',  '2', '2,5', '3', '3,5', '4', '4,5']\n",
    "ménages = [48, 58, 136, 184, 210, 122, 62, 12]\n",
    "fig, ax = plt.subplots()\n",
    "\n",
    "ax.bar(parts, ménages)\n",
    "\n",
    "ax.set_ylabel('nombre de ménages')\n",
    "ax.set_xlabel('parts familiales')\n",
    "ax.set_title('Répartition des ménages par parts familiales')\n",
    "\n",
    "plt.show()"
   ]
  },
  {
   "cell_type": "markdown",
   "id": "9b2f6b22-3ad8-4899-b46b-aea6fd4505e7",
   "metadata": {},
   "source": [
    "4. Représenter la courbe des fréquences cumulées croissantes."
   ]
  },
  {
   "cell_type": "code",
   "execution_count": 25,
   "id": "bf5be904-2ecf-4760-8752-b9417cf713a3",
   "metadata": {
    "jupyter": {
     "source_hidden": true
    }
   },
   "outputs": [
    {
     "data": {
      "image/png": "[encoded data removed]",
      "text/plain": [
       "<Figure size 640x480 with 1 Axes>"
      ]
     },
     "metadata": {},
     "output_type": "display_data"
    }
   ],
   "source": [
    "ménages = [48, 58, 136, 184, 210, 122, 62, 12]\n",
    "fréquences = np.array(ménages)/sum(ménages)\n",
    "cumul = 0\n",
    "fréquences_cumulées = []\n",
    "for f in fréquences:\n",
    "    cumul += f\n",
    "    fréquences_cumulées.append(cumul)\n",
    "\n",
    "fig, ax = plt.subplots()\n",
    "\n",
    "ax.bar(parts, fréquences_cumulées)\n",
    "ax.set_ylabel('% des ménages')\n",
    "ax.set_xlabel('parts familiales')\n",
    "ax.set_title('Fréquences cumulées')\n",
    "\n",
    "plt.show()"
   ]
  },
  {
   "cell_type": "markdown",
   "id": "af252745-c663-4e35-a187-9613737d4330",
   "metadata": {},
   "source": [
    "5. Calculer la médiane, la moyenne et l’écart-type de cette variable."
   ]
  },
  {
   "cell_type": "code",
   "execution_count": 26,
   "id": "787c3532-0521-4fda-9020-b1c733861542",
   "metadata": {},
   "outputs": [
    {
     "data": {
      "text/plain": [
       "832"
      ]
     },
     "execution_count": 26,
     "metadata": {},
     "output_type": "execute_result"
    }
   ],
   "source": [
    "# Nombre total de ménages:\n",
    "sum(ménages)"
   ]
  },
  {
   "cell_type": "code",
   "execution_count": 27,
   "id": "0390f687-e4ba-4962-af2d-dddb21e0ec08",
   "metadata": {},
   "outputs": [
    {
     "data": {
      "text/plain": [
       "416.0"
      ]
     },
     "execution_count": 27,
     "metadata": {},
     "output_type": "execute_result"
    }
   ],
   "source": [
    "sum(ménages)/2"
   ]
  },
  {
   "cell_type": "code",
   "execution_count": 28,
   "id": "f18e9a3a-2b65-4393-aa20-429d70b0c7ee",
   "metadata": {},
   "outputs": [
    {
     "data": {
      "text/plain": [
       "426"
      ]
     },
     "execution_count": 28,
     "metadata": {},
     "output_type": "execute_result"
    }
   ],
   "source": [
    "# médiane entre 416 et 417\n",
    "48 + 58 + 136 + 184"
   ]
  },
  {
   "cell_type": "markdown",
   "id": "07a4d458-6e1e-4046-93ca-7d95a9d75524",
   "metadata": {},
   "source": [
    "416 et 417 sont dans l'intervalle d'effectif 184, associé à 2,5 parts.\n",
    "\n",
    "Donc la médiane est 2,5"
   ]
  },
  {
   "cell_type": "code",
   "execution_count": 29,
   "id": "e1e24b9d-86d2-416a-b835-6942e3eb1b5c",
   "metadata": {},
   "outputs": [
    {
     "data": {
      "text/plain": [
       "2.675480769230769"
      ]
     },
     "execution_count": 29,
     "metadata": {},
     "output_type": "execute_result"
    }
   ],
   "source": [
    "# moyenne\n",
    "\n",
    "parts = [1, 1.5, 2, 2.5, 3, 3.5, 4, 4.5]\n",
    "ménages = [48, 58, 136, 184, 210, 122, 62, 12]\n",
    "\n",
    "# Moyenne pondérée avec numpy\n",
    "\n",
    "mu = np.average(parts, weights=ménages)\n",
    "mu"
   ]
  },
  {
   "cell_type": "code",
   "execution_count": 30,
   "id": "d3062526-61c1-4232-9a46-d4dfc8f059b4",
   "metadata": {},
   "outputs": [
    {
     "data": {
      "text/plain": [
       "0.802924198701812"
      ]
     },
     "execution_count": 30,
     "metadata": {},
     "output_type": "execute_result"
    }
   ],
   "source": [
    "# écart type\n",
    "parts = np.array(parts)\n",
    "ménages = np.array(ménages)\n",
    "\n",
    "math.sqrt(sum(ménages*(parts - mu)**2/sum(ménages)))\n"
   ]
  },
  {
   "cell_type": "markdown",
   "id": "ca9b815d-6e2a-4fc1-a11c-93e2a67527b5",
   "metadata": {},
   "source": [
    "## Exercice 7\n",
    "\n",
    "Répartition des revenus mensuels dans une population de 4000 personnes en euro : \n",
    "\n",
    "|  |  |  |  |  |  |  |  |  |\n",
    "|---|---|---|---|---|---|---|---|---|\n",
    "| Salaires | [0 ;1000[ | [1000 ;2000[ | [2000 ;3000[ | [3000 ;4000[ | [4000 ;5000[ | [5000 ;6000[ |\n",
    "| Effectifs | 1431 | 685 | 1180 | 468 | 204 | 32 |\n",
    "\n",
    "1. Quel est le caractère étudié et quelles sont les modalités ?\n",
    "2. Déterminer l’étendue et le mode de cette série statistique.\n",
    "3. Après avoir calculé les fréquences, représenter graphiquement la série statistique précédente.\n",
    "4. Calculer la moyenne ainsi que l’écart type de cette série.\n",
    "5. Tracer le diagramme des fréquences cumulées croissantes.\n",
    "6. En déduire la médiane, les quartiles et tracer la boîte à moustache correspondante.\n",
    "7. Parmi les salaires de moins de 1000 euros, les 2/3 sont inférieurs à 500 euros. Quel nombre de salariés cela représente-t-il ?\n",
    "\n",
    "[Référence: étendue et écart inter-quartiles dans le cas d'intervalles](https://public.iutenligne.net/mathematiques/statistiques-et-probabilites/millaud/resumes_statistiques/co/module_ResumesStatistiques_47.html)"
   ]
  },
  {
   "cell_type": "code",
   "execution_count": 31,
   "id": "eab9ad2b-affa-497e-9b2a-7a4449c89a7c",
   "metadata": {},
   "outputs": [],
   "source": [
    "salaires = ['[0 ;1000[', '[1000 ;2000[', '[2000 ;3000[', '[3000 ;4000[', '[4000 ;5000[', '[5000 ;6000[']\n",
    "effectifs = np.array([1431, 685, 1180, 468, 204, 32])\n",
    "fréquences = effectifs/sum(effectifs)"
   ]
  },
  {
   "cell_type": "markdown",
   "id": "b8a7f206-195d-47ec-97e0-8d057f0ac574",
   "metadata": {},
   "source": [
    "1. Quel est le caractère étudié et quelles sont les modalités ?"
   ]
  },
  {
   "cell_type": "markdown",
   "id": "f3701600-77fe-4f52-8dc3-8df731bac9ab",
   "metadata": {},
   "source": [
    "Le caractère étudié est une variable quantitative discrète, le salaire, mais comme les différentes valeurs possibles sont trop grandes, on les regroupe en intervalles. Les modalités sont donc les intervalles considérés."
   ]
  },
  {
   "cell_type": "markdown",
   "id": "d2dcdc9e-2270-4d3d-88cc-1b0c9336df17",
   "metadata": {},
   "source": [
    "2. Déterminer l’étendue et le mode de cette série statistique."
   ]
  },
  {
   "cell_type": "markdown",
   "id": "61b1e834-a7df-49c0-9588-85be88b45556",
   "metadata": {},
   "source": [
    "L'étendue est $6000-0=6000$\n",
    "\n",
    "Le mode est le premier intervalle [0 ;1000["
   ]
  },
  {
   "cell_type": "markdown",
   "id": "f49e4da3-898e-431f-b1e3-4f86e1523c26",
   "metadata": {},
   "source": [
    "3. Après avoir calculé les fréquences, représenter graphiquement la série statistique précédente."
   ]
  },
  {
   "cell_type": "code",
   "execution_count": 32,
   "id": "fd7146c7-69d8-481b-b597-3692b9f32973",
   "metadata": {},
   "outputs": [
    {
     "data": {
      "image/png": "[encoded data removed]",
      "text/plain": [
       "<Figure size 640x480 with 1 Axes>"
      ]
     },
     "metadata": {},
     "output_type": "display_data"
    }
   ],
   "source": [
    "salaires = ['[0 ;1[', '[1 ;2[', '[2 ;3[', '[3 ;4[', '[4 ;5[', '[5 ;6[']\n",
    "\n",
    "fig, ax = plt.subplots()\n",
    "\n",
    "ax.bar(salaires, fréquences)\n",
    "\n",
    "ax.set_ylabel('fréquence')\n",
    "ax.set_xlabel('salaires $10^3$€')\n",
    "ax.set_title('Répartition des salaires')\n",
    "\n",
    "plt.show()"
   ]
  },
  {
   "cell_type": "markdown",
   "id": "eebbbdbd-7ce2-40c7-88a2-534a4dc8d121",
   "metadata": {},
   "source": [
    "4. Calculer la moyenne ainsi que l’écart type de cette série."
   ]
  },
  {
   "cell_type": "code",
   "execution_count": 33,
   "id": "3100629b-42ab-4b81-a592-2691c883afae",
   "metadata": {},
   "outputs": [
    {
     "data": {
      "text/plain": [
       "1.85625"
      ]
     },
     "execution_count": 33,
     "metadata": {},
     "output_type": "execute_result"
    }
   ],
   "source": [
    "# centres des intervalles\n",
    "salaires = np.array([0.5, 1.5, 2.5, 3.5, 4.5, 5.5])\n",
    "effectifs = np.array([1431, 685, 1180, 468, 204, 32])\n",
    "\n",
    "# Moyenne pondérée avec numpy\n",
    "mu = np.average(salaires, weights=effectifs)\n",
    "mu"
   ]
  },
  {
   "cell_type": "code",
   "execution_count": 34,
   "id": "44ea19b6-6e12-40a1-9869-a4cfc81f7647",
   "metadata": {},
   "outputs": [
    {
     "data": {
      "text/plain": [
       "1.2573129831112062"
      ]
     },
     "execution_count": 34,
     "metadata": {},
     "output_type": "execute_result"
    }
   ],
   "source": [
    "# Ecart type\n",
    "variance = np.average((salaires-mu)**2, weights=effectifs)\n",
    "math.sqrt(variance)"
   ]
  },
  {
   "cell_type": "markdown",
   "id": "88be4fe3-7d18-4ff0-a1ac-80e19be39d19",
   "metadata": {},
   "source": [
    "5. Tracer le diagramme des fréquences cumulées croissantes."
   ]
  },
  {
   "cell_type": "code",
   "execution_count": 35,
   "id": "4d7b2486-3329-4580-b2d3-6bf2897c8cdc",
   "metadata": {},
   "outputs": [
    {
     "data": {
      "image/png": "[encoded data removed]",
      "text/plain": [
       "<Figure size 640x480 with 1 Axes>"
      ]
     },
     "metadata": {},
     "output_type": "display_data"
    }
   ],
   "source": [
    "salaires = ['[0 ;1[', '[1 ;2[', '[2 ;3[', '[3 ;4[', '[4 ;5[', '[5 ;6[']\n",
    "cumul = 0\n",
    "fréquences_cumulées = []\n",
    "for f in fréquences:\n",
    "    cumul += f\n",
    "    fréquences_cumulées.append(cumul)\n",
    "\n",
    "fig, ax = plt.subplots()\n",
    "\n",
    "ax.bar(salaires, fréquences_cumulées)\n",
    "ax.set_ylabel('fréquence')\n",
    "ax.set_xlabel('salaires $10^3$€')\n",
    "ax.set_title('Fréquences cumulées des salaires')\n",
    "\n",
    "plt.show()"
   ]
  },
  {
   "cell_type": "markdown",
   "id": "e77be71e-c5cb-48a5-8062-ecc4b1b2cac6",
   "metadata": {},
   "source": [
    "6. En déduire la médiane, les quartiles et tracer la boîte à moustache correspondante."
   ]
  },
  {
   "cell_type": "code",
   "execution_count": 36,
   "id": "39747e23-0549-4796-b0ee-95c09dd37d54",
   "metadata": {},
   "outputs": [],
   "source": [
    "# Définition de la série statistique \n",
    "\n",
    "salaires = np.array([0.5, 1.5, 2.5, 3.5, 4.5, 5.5])\n",
    "effectifs = np.array([1431, 685, 1180, 468, 204, 32])\n",
    "\n",
    "data = []\n",
    "for i in range(len(salaires)):\n",
    "    data += [salaires[i]]*effectifs[i]"
   ]
  },
  {
   "cell_type": "code",
   "execution_count": 37,
   "id": "63ccdfb1-7ec4-4412-b6b6-ff174961dcbc",
   "metadata": {},
   "outputs": [],
   "source": [
    "import statistics"
   ]
  },
  {
   "cell_type": "code",
   "execution_count": 38,
   "id": "95eb9676-a6a1-465c-bd7b-e32cc634812b",
   "metadata": {},
   "outputs": [
    {
     "data": {
      "text/plain": [
       "1.5"
      ]
     },
     "execution_count": 38,
     "metadata": {},
     "output_type": "execute_result"
    }
   ],
   "source": [
    "statistics.median(data)"
   ]
  },
  {
   "cell_type": "code",
   "execution_count": 39,
   "id": "bc5a684f-f235-41b2-8b73-b09f8ceb8f10",
   "metadata": {},
   "outputs": [
    {
     "data": {
      "text/plain": [
       "0.5"
      ]
     },
     "execution_count": 39,
     "metadata": {},
     "output_type": "execute_result"
    }
   ],
   "source": [
    "statistics.mode(data)"
   ]
  },
  {
   "cell_type": "code",
   "execution_count": 40,
   "id": "3fd65b02-0930-4fe1-a1fb-d39fa39ff37e",
   "metadata": {},
   "outputs": [
    {
     "data": {
      "text/plain": [
       "[0.5, 1.5, 2.5]"
      ]
     },
     "execution_count": 40,
     "metadata": {},
     "output_type": "execute_result"
    }
   ],
   "source": [
    "# quartiles\n",
    "statistics.quantiles(data)"
   ]
  },
  {
   "cell_type": "code",
   "execution_count": 41,
   "id": "d6f519b0-4138-4f9c-b7fb-7b22f685ba0a",
   "metadata": {},
   "outputs": [
    {
     "data": {
      "image/png": "[encoded data removed]",
      "text/plain": [
       "<Figure size 640x480 with 1 Axes>"
      ]
     },
     "metadata": {},
     "output_type": "display_data"
    }
   ],
   "source": [
    "fig, ax = plt.subplots()\n",
    "ax.boxplot(data, vert=False)\n",
    "ax.set_title('Répartition des salaires')\n",
    "ax.set_xlabel('salaires $10^3$€')\n",
    "\n",
    "plt.show()"
   ]
  },
  {
   "cell_type": "markdown",
   "id": "1147ad54-6268-4e88-9d74-e62afb418548",
   "metadata": {},
   "source": [
    "7. Parmi les salaires de moins de 1000 euros, les 2/3 sont inférieurs à 500 euros. Quel nombre de salariés cela représente-t-il ?"
   ]
  },
  {
   "cell_type": "code",
   "execution_count": 42,
   "id": "32c70450-b2a3-4e8a-ba3e-6a5cc70cd5d0",
   "metadata": {},
   "outputs": [
    {
     "data": {
      "text/plain": [
       "954"
      ]
     },
     "execution_count": 42,
     "metadata": {},
     "output_type": "execute_result"
    }
   ],
   "source": [
    "1431*2//3"
   ]
  },
  {
   "cell_type": "markdown",
   "id": "36fc3ce1-f57b-47e3-85b0-990db2f6680e",
   "metadata": {},
   "source": [
    "## Exercice 8\n",
    "\n",
    "Deux tireurs X et Y s’affrontent en vue d’une sélection lors d’une épreuve comportant 25 tirs sur cible. Les résultats obtenus ont été consignés dans le tableau suivant :\n",
    "\n",
    "\n",
    "| Points | 50 | 30 | 20 | 10 | 0 |\n",
    "|---|---|---|---|---|---|\n",
    "| X | 5 | 7 | 6 | 5 | 2 |\n",
    "| Y | 7 | 4 | 6 | 4 | 4 |\n",
    "\n",
    "1. La moyenne par tir permet-elle de départager les deux concurrents? Que se passe-t-il si on élimine les cinq plus mauvais tirs de chacun.\n",
    "2. Calculer la médiane des deux série. Peut-on départager les deux concurrents ?\n",
    "3. Représenter par deux histogrammes, l’un sous l’autre les séries obtenues par X et Y . Quel est d’après vous le tireur le plus régulier.\n",
    "4. Calculer les écarts types des deux séries.\n",
    "5. Tracer les boites à moustache correspondant à chacune des deux séries."
   ]
  },
  {
   "cell_type": "markdown",
   "id": "a6e6a0ec-34cb-47f2-b43f-14903715624d",
   "metadata": {},
   "source": [
    "## Exercice 9\n",
    "\n",
    "A l’aide des données récoltées sur la page suivante :\n",
    "http://www.insee.fr/fr/ffc/docs_ffc/psdc.htm\n",
    "répondre à la question suivante : Quand une commune française n’a pas beaucoup d’habitants, ça veut dire qu’elle en a combien ?"
   ]
  },
  {
   "cell_type": "markdown",
   "id": "7647ed15-5e78-4eab-9a4b-731371d3e12e",
   "metadata": {},
   "source": [
    "## Exercice 10\n",
    "\n",
    "Le tableau suivant donne les résultats obtenus à partir de 10 essais de laboratoire concernant la charge de rupture d’un acier en fonction de sa teneur en carbonne.\n",
    "\n",
    "|  |  |  |  |  |  |  |  |  |  |  |\n",
    "|---|---|---|---|---|---|---|---|---|---|---|\n",
    "| Teneur en carbonne: $x_i$ | 70 | 60 | 68 | 64 | 66 | 64 | 62 | 70 | 74 | 62 |\n",
    "| Charge de rupture (en kg): $y_i$ | 87 | 71 | 79 | 74 | 79 | 80 | 75 | 86 | 95 | 70 |\n",
    "\n",
    "\n",
    "1. Représenter graphiquement le nuage de points de coordonnées $(x_i,y_i)$. On prendra en abscisse 1cm pour une unité en représentant les abscisses à partir de la valeur 60. On prendra en ordonnée à partir de 70.\n",
    "2. Calculer les coordonnées du point moyen de ce nuage.\n",
    "3. Déterminer la valeur approchée arrondie à $10^{−3}$ du coefficient de corrélation linéaire de la série\n",
    "statistique de variables x et y. Interpréter le résultat.\n",
    "4. Déterminer une équation de la forme $y = ax + b$ de la droite $\\mathcal{D_y}$ de régression de y en x par la méthode des moindres carrés. On donnera les valeurs approchées des coefficients a et b. Tracer la droite $\\mathcal{D_y}$ sur le graphique de la question 1.\n",
    "5. Déterminer une équation de la forme $x = cy + d$ de la droite $\\mathcal{D_x}$ de régression de x en y par la méthode des moindres carrés. On donnera les valeurs approchées des coefficients c et d. Tracer la droite $\\mathcal{D_x}$ sur le graphique de la question 1.\n",
    "6. Un acier a une teneur en carbonne de 77. Donner une estimation de sa charge de rupture."
   ]
  },
  {
   "cell_type": "markdown",
   "id": "4ca56192-54a8-4277-93b8-c9c240bc603c",
   "metadata": {},
   "source": [
    "## Exercice 11\n",
    "\n",
    "Un mobile est propulsé à très grande vitesse sur un axe, puis il est ralenti. On s’intéresse à la vitesse de ce mobile durant le freinage. Dans tout l’exercice, les distances sont exprimées en mètres, les temps en seconde et les vitesses en mètre par seconde. Les résultats seront arrondis au dixème.\n",
    "On a relevé les vitesses instantanées $v_i$ de ce mobile aux instants $t_i$, pour i variant de 0 à 7.\n",
    "\n",
    "|  |  |  |  |  |  |  |  |  |\n",
    "|---|---|---|---|---|---|---|---|---|\n",
    "| $t_i$ en s | 0 | 1 | 2 | 3 | 4 | 5 | 6 | 7 |\n",
    "| $v_i$ en $m.s^{−1}$ | 215 | 140 | 85 | 57 | 36 | 29 | 27 | 22 |\n",
    "\n",
    "1. Dessiner le nuage de points de cette série statistique et expliquer pourquoi on n’envisage pas un\n",
    "ajustement affine de ce nuage.\n",
    "2. On pose $n_i = ln(v_i − 15)$ pour i variant de 0 à 7. Dresser le tableau de la série $(t_i, n_i)$.\n",
    "3. Donner une équation de la droite de régression de n en t par la méthode des moindres carrés.\n",
    "4. En déduire une expression de la vitesse v en fonction du temps t sous la forme $v = αe^{βt} + γ$, où α, β et γ sont des réels à déterminer et tracer la courbe obtenu sur le graphique de la question 1."
   ]
  },
  {
   "cell_type": "code",
   "execution_count": null,
   "id": "4859868d-0ef5-424e-9d78-7019adf5cfd3",
   "metadata": {},
   "outputs": [],
   "source": []
  },
  {
   "cell_type": "code",
   "execution_count": null,
   "id": "0fb28621-ac57-4a6f-a85d-3d22bfec5094",
   "metadata": {},
   "outputs": [],
   "source": []
  }
 ],
 "metadata": {
  "kernelspec": {
   "display_name": "bd",
   "language": "python",
   "name": "bd"
  },
  "language_info": {
   "codemirror_mode": {
    "name": "ipython",
    "version": 3
   },
   "file_extension": ".py",
   "mimetype": "text/x-python",
   "name": "python",
   "nbconvert_exporter": "python",
   "pygments_lexer": "ipython3",
   "version": "3.11.7"
  }
 },
 "nbformat": 4,
 "nbformat_minor": 5
}
