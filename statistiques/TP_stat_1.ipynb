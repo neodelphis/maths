{
 "cells": [
  {
   "cell_type": "markdown",
   "id": "d69bf36c-8066-4b08-815a-57419d8a992f",
   "metadata": {},
   "source": [
    "# Statistiques"
   ]
  },
  {
   "cell_type": "markdown",
   "id": "3f26bfa1-7fa1-420c-9dae-93a7bc552591",
   "metadata": {},
   "source": [
    "## Exercice 1 - Terminologie\n",
    "\n",
    "L'administration fait un sondage à Ynov auprès de 10% des élèves et leur pose deux questions:\n",
    "- Dans quel secteur souhaitez vous travailler après vos études?\n",
    "- Quel salaire espérez-vous?\n",
    "\n",
    "Décrivez les termes suivants dans le cas présenté:\n",
    "\n",
    "- individu\n",
    "- population\n",
    "- variable(s), spécifiez variable qualitative et ses modalités, variables quantitatives discrètes ou continues\n",
    "- la sous population\n",
    "- l’échantillon de données"
   ]
  },
  {
   "cell_type": "markdown",
   "id": "c4b06d77-264a-4305-b277-625355659e32",
   "metadata": {},
   "source": [
    "## Exercice 2 - Fréquences\n",
    "\n",
    "On simule 20 lancers d'une pièce "
   ]
  },
  {
   "cell_type": "code",
   "execution_count": 6,
   "id": "7a154455-95bf-4c4f-8395-1c15515e406c",
   "metadata": {},
   "outputs": [
    {
     "data": {
      "text/plain": [
       "[0, 1, 1, 1, 1, 1, 1, 1, 1, 0, 0, 0, 1, 1, 1, 0, 0, 1, 0, 0]"
      ]
     },
     "execution_count": 6,
     "metadata": {},
     "output_type": "execute_result"
    }
   ],
   "source": [
    "import random\n",
    "[random.randint(0, 1) for _ in range(20)]"
   ]
  },
  {
   "cell_type": "markdown",
   "id": "26642ccf-35f1-4ccb-9fe1-ba1e4ff5baf1",
   "metadata": {},
   "source": [
    "Donnez:\n",
    "- $n$ la taille de l’échantillon\n",
    "- $k$ le nombre de modalités.\n",
    "- $m_i, i \\in [\\![1, k]\\!]$ les modalités\n",
    "- $n_i$ le nombre d’occurence (l’effectif) de $m_i$ dans l’échantillon\n",
    "- $f_i$ la fréquence correspondante\n",
    "\n",
    "Peut-on en déduire que la pièce n'est pas faussée?"
   ]
  },
  {
   "cell_type": "code",
   "execution_count": null,
   "id": "8be96128-47b7-43b3-a2a3-1ca92614ae18",
   "metadata": {},
   "outputs": [],
   "source": []
  }
 ],
 "metadata": {
  "kernelspec": {
   "display_name": "bd",
   "language": "python",
   "name": "bd"
  },
  "language_info": {
   "codemirror_mode": {
    "name": "ipython",
    "version": 3
   },
   "file_extension": ".py",
   "mimetype": "text/x-python",
   "name": "python",
   "nbconvert_exporter": "python",
   "pygments_lexer": "ipython3",
   "version": "3.11.7"
  }
 },
 "nbformat": 4,
 "nbformat_minor": 5
}
